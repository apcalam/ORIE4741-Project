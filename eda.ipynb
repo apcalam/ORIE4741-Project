{
 "cells": [
  {
   "cell_type": "markdown",
   "metadata": {},
   "source": [
    "# Exploratory Data Analysis\n",
    "Based on demo from lecture 2."
   ]
  },
  {
   "cell_type": "code",
   "execution_count": 1,
   "metadata": {},
   "outputs": [
    {
     "name": "stderr",
     "output_type": "stream",
     "text": [
      "\u001b[32m\u001b[1m   Updating\u001b[22m\u001b[39m registry at `~/.julia/registries/General`\n",
      "######################################################################### 100.0%\n",
      "\u001b[32m\u001b[1m  Resolving\u001b[22m\u001b[39m package versions...\n",
      "\u001b[32m\u001b[1mNo Changes\u001b[22m\u001b[39m to `~/.julia/environments/v1.5/Project.toml`\n",
      "\u001b[32m\u001b[1mNo Changes\u001b[22m\u001b[39m to `~/.julia/environments/v1.5/Manifest.toml`\n",
      "\u001b[32m\u001b[1m  Resolving\u001b[22m\u001b[39m package versions...\n",
      "\u001b[32m\u001b[1mNo Changes\u001b[22m\u001b[39m to `~/.julia/environments/v1.5/Project.toml`\n",
      "\u001b[32m\u001b[1mNo Changes\u001b[22m\u001b[39m to `~/.julia/environments/v1.5/Manifest.toml`\n",
      "\u001b[32m\u001b[1m  Resolving\u001b[22m\u001b[39m package versions...\n",
      "\u001b[32m\u001b[1mNo Changes\u001b[22m\u001b[39m to `~/.julia/environments/v1.5/Project.toml`\n",
      "\u001b[32m\u001b[1mNo Changes\u001b[22m\u001b[39m to `~/.julia/environments/v1.5/Manifest.toml`\n",
      "\u001b[32m\u001b[1m  Resolving\u001b[22m\u001b[39m package versions...\n",
      "\u001b[32m\u001b[1mNo Changes\u001b[22m\u001b[39m to `~/.julia/environments/v1.5/Project.toml`\n",
      "\u001b[32m\u001b[1mNo Changes\u001b[22m\u001b[39m to `~/.julia/environments/v1.5/Manifest.toml`\n",
      "\u001b[32m\u001b[1m  Resolving\u001b[22m\u001b[39m package versions...\n",
      "\u001b[32m\u001b[1mNo Changes\u001b[22m\u001b[39m to `~/.julia/environments/v1.5/Project.toml`\n",
      "\u001b[32m\u001b[1mNo Changes\u001b[22m\u001b[39m to `~/.julia/environments/v1.5/Manifest.toml`\n"
     ]
    }
   ],
   "source": [
    "# Install packages\n",
    "using Pkg\n",
    "Pkg.add(\"CSV\")\n",
    "Pkg.add(\"DataFrames\")\n",
    "Pkg.add(\"Plots\")\n",
    "Pkg.add(\"StatsPlots\")\n",
    "Pkg.add(\"PyPlot\")"
   ]
  },
  {
   "cell_type": "code",
   "execution_count": 2,
   "metadata": {},
   "outputs": [
    {
     "name": "stderr",
     "output_type": "stream",
     "text": [
      "┌ Info: Precompiling DataFrames [a93c6f00-e57d-5684-b7b6-d8193f3e46c0]\n",
      "└ @ Base loading.jl:1278\n",
      "┌ Info: Precompiling StatsPlots [f3b207a7-027a-5e70-b257-86293d7955fd]\n",
      "└ @ Base loading.jl:1278\n",
      "┌ Info: Precompiling CSV [336ed68f-0bac-5ca0-87d4-7b16caf5d00b]\n",
      "└ @ Base loading.jl:1278\n",
      "┌ Info: Precompiling PyPlot [d330b81b-6aea-500a-939a-2ce795aea3ee]\n",
      "└ @ Base loading.jl:1278\n"
     ]
    },
    {
     "data": {
      "text/plain": [
       "Plots.PyPlotBackend()"
      ]
     },
     "execution_count": 2,
     "metadata": {},
     "output_type": "execute_result"
    }
   ],
   "source": [
    "# bring packages into main namespace\n",
    "using DataFrames             # Data tables are called \"DataFrames\"\n",
    "using StatsPlots             # load plotting packages \n",
    "using Statistics             # basic statistical functions\n",
    "using CSV                    # tools for working with CSV files\n",
    "# plotly() # good interactive html plotting tool\n",
    "pyplot()   # good plotting tool for saving pdf figures"
   ]
  },
  {
   "cell_type": "markdown",
   "metadata": {},
   "source": [
    "# Load data"
   ]
  },
  {
   "cell_type": "code",
   "execution_count": 61,
   "metadata": {},
   "outputs": [
    {
     "data": {
      "text/html": [
       "<table class=\"data-frame\"><thead><tr><th></th><th>tbl</th><th>Year</th><th>quarter</th><th>citymarketid_1</th><th>citymarketid_2</th><th>city1</th></tr><tr><th></th><th>String</th><th>Int64</th><th>Int64</th><th>Int64</th><th>Int64</th><th>String</th></tr></thead><tbody><p>6 rows × 23 columns (omitted printing of 17 columns)</p><tr><th>1</th><td>Table 1a</td><td>2010</td><td>1</td><td>34614</td><td>33195</td><td>Salt Lake City, UT</td></tr><tr><th>2</th><td>Table 1a</td><td>1998</td><td>4</td><td>30189</td><td>31703</td><td>Colorado Springs, CO</td></tr><tr><th>3</th><td>Table 1a</td><td>1998</td><td>4</td><td>30198</td><td>30852</td><td>Pittsburgh, PA</td></tr><tr><th>4</th><td>Table 1a</td><td>2009</td><td>3</td><td>32211</td><td>32575</td><td>Las Vegas, NV</td></tr><tr><th>5</th><td>Table 1a</td><td>1993</td><td>4</td><td>30255</td><td>30852</td><td>Huntsville, AL</td></tr><tr><th>6</th><td>Table 1a</td><td>2010</td><td>4</td><td>33198</td><td>32575</td><td>Kansas City, MO</td></tr></tbody></table>"
      ],
      "text/latex": [
       "\\begin{tabular}{r|ccccccc}\n",
       "\t& tbl & Year & quarter & citymarketid\\_1 & citymarketid\\_2 & city1 & \\\\\n",
       "\t\\hline\n",
       "\t& String & Int64 & Int64 & Int64 & Int64 & String & \\\\\n",
       "\t\\hline\n",
       "\t1 & Table 1a & 2010 & 1 & 34614 & 33195 & Salt Lake City, UT & $\\dots$ \\\\\n",
       "\t2 & Table 1a & 1998 & 4 & 30189 & 31703 & Colorado Springs, CO & $\\dots$ \\\\\n",
       "\t3 & Table 1a & 1998 & 4 & 30198 & 30852 & Pittsburgh, PA & $\\dots$ \\\\\n",
       "\t4 & Table 1a & 2009 & 3 & 32211 & 32575 & Las Vegas, NV & $\\dots$ \\\\\n",
       "\t5 & Table 1a & 1993 & 4 & 30255 & 30852 & Huntsville, AL & $\\dots$ \\\\\n",
       "\t6 & Table 1a & 2010 & 4 & 33198 & 32575 & Kansas City, MO & $\\dots$ \\\\\n",
       "\\end{tabular}\n"
      ],
      "text/plain": [
       "6×23 DataFrame. Omitted printing of 18 columns\n",
       "│ Row │ tbl      │ Year  │ quarter │ citymarketid_1 │ citymarketid_2 │\n",
       "│     │ \u001b[90mString\u001b[39m   │ \u001b[90mInt64\u001b[39m │ \u001b[90mInt64\u001b[39m   │ \u001b[90mInt64\u001b[39m          │ \u001b[90mInt64\u001b[39m          │\n",
       "├─────┼──────────┼───────┼─────────┼────────────────┼────────────────┤\n",
       "│ 1   │ Table 1a │ 2010  │ 1       │ 34614          │ 33195          │\n",
       "│ 2   │ Table 1a │ 1998  │ 4       │ 30189          │ 31703          │\n",
       "│ 3   │ Table 1a │ 1998  │ 4       │ 30198          │ 30852          │\n",
       "│ 4   │ Table 1a │ 2009  │ 3       │ 32211          │ 32575          │\n",
       "│ 5   │ Table 1a │ 1993  │ 4       │ 30255          │ 30852          │\n",
       "│ 6   │ Table 1a │ 2010  │ 4       │ 33198          │ 32575          │"
      ]
     },
     "execution_count": 61,
     "metadata": {},
     "output_type": "execute_result"
    }
   ],
   "source": [
    "acs = CSV.read(\"Consumer_Airfare_Report__Table_1a_-_All_U.S._Airport_Pair_Markets.csv\") #, limit=10000) # read 10000 rows from the csv\n",
    "head(acs)"
   ]
  },
  {
   "cell_type": "code",
   "execution_count": 78,
   "metadata": {},
   "outputs": [
    {
     "data": {
      "text/plain": [
       "213175-element Array{Float64,1}:\n",
       " 2010.0\n",
       " 1998.75\n",
       " 1998.75\n",
       " 2009.5\n",
       " 1993.75\n",
       " 2010.75\n",
       " 2007.25\n",
       " 2003.25\n",
       " 2005.75\n",
       " 2014.75\n",
       " 2001.0\n",
       " 1993.0\n",
       " 1998.75\n",
       "    ⋮\n",
       " 2019.75\n",
       " 2019.75\n",
       " 2019.75\n",
       " 2019.75\n",
       " 2019.75\n",
       " 2019.75\n",
       " 2019.75\n",
       " 2019.75\n",
       " 2019.75\n",
       " 2019.75\n",
       " 2019.75\n",
       " 2019.75"
      ]
     },
     "execution_count": 78,
     "metadata": {},
     "output_type": "execute_result"
    }
   ],
   "source": [
    "acs[:when] = acs[:Year] .+ ((acs[:quarter] .-1) ./ 4)"
   ]
  },
  {
   "cell_type": "markdown",
   "metadata": {},
   "source": [
    "# Summary statistics"
   ]
  },
  {
   "cell_type": "code",
   "execution_count": 52,
   "metadata": {},
   "outputs": [
    {
     "name": "stdout",
     "output_type": "stream",
     "text": [
      "(213175, 24)\n",
      "DataFrame\n",
      "[\"tbl\", \"Year\", \"quarter\", \"citymarketid_1\", \"citymarketid_2\", \"city1\", \"city2\", \"airportid_1\", \"airportid_2\", \"airport_1\", \"airport_2\", \"nsmiles\", \"passengers\", \"fare\", \"carrier_lg\", \"large_ms\", \"fare_lg\", \"carrier_low\", \"lf_ms\", \"fare_low\", \"Geocoded_City1\", \"Geocoded_City2\", \"tbl1apk\", \"when\"]\n",
      "6×24 DataFrame\n",
      "│ Row │ tbl      │ Year  │ quarter │ citymarketid_1 │ citymarketid_2 │\n",
      "│     │ \u001b[90mString\u001b[39m   │ \u001b[90mInt64\u001b[39m │ \u001b[90mInt64\u001b[39m   │ \u001b[90mInt64\u001b[39m          │ \u001b[90mInt64\u001b[39m          │\n",
      "├─────┼──────────┼───────┼─────────┼────────────────┼────────────────┤\n",
      "│ 1   │ Table 1a │ 2010  │ 1       │ 34614          │ 33195          │\n",
      "│ 2   │ Table 1a │ 1998  │ 4       │ 30189          │ 31703          │\n",
      "│ 3   │ Table 1a │ 1998  │ 4       │ 30198          │ 30852          │\n",
      "│ 4   │ Table 1a │ 2009  │ 3       │ 32211          │ 32575          │\n",
      "│ 5   │ Table 1a │ 1993  │ 4       │ 30255          │ 30852          │\n",
      "│ 6   │ Table 1a │ 2010  │ 4       │ 33198          │ 32575          │\n",
      "\n",
      "│ Row │ city1                │ city2                                 │\n",
      "│     │ \u001b[90mString\u001b[39m               │ \u001b[90mString\u001b[39m                                │\n",
      "├─────┼──────────────────────┼───────────────────────────────────────┤\n",
      "│ 1   │ Salt Lake City, UT   │ Tampa, FL (Metropolitan Area)         │\n",
      "│ 2   │ Colorado Springs, CO │ New York City, NY (Metropolitan Area) │\n",
      "│ 3   │ Pittsburgh, PA       │ Washington, DC (Metropolitan Area)    │\n",
      "│ 4   │ Las Vegas, NV        │ Los Angeles, CA (Metropolitan Area)   │\n",
      "│ 5   │ Huntsville, AL       │ Washington, DC (Metropolitan Area)    │\n",
      "│ 6   │ Kansas City, MO      │ Los Angeles, CA (Metropolitan Area)   │\n",
      "\n",
      "│ Row │ airportid_1 │ airportid_2 │ airport_1 │ airport_2 │ nsmiles │\n",
      "│     │ \u001b[90mInt64\u001b[39m       │ \u001b[90mInt64\u001b[39m       │ \u001b[90mString\u001b[39m    │ \u001b[90mString\u001b[39m    │ \u001b[90mInt64\u001b[39m   │\n",
      "├─────┼─────────────┼─────────────┼───────────┼───────────┼─────────┤\n",
      "│ 1   │ 14869       │ 15304       │ SLC       │ TPA       │ 1887    │\n",
      "│ 2   │ 11109       │ 12197       │ COS       │ HPN       │ 1678    │\n",
      "│ 3   │ 14122       │ 10821       │ PIT       │ BWI       │ 210     │\n",
      "│ 4   │ 12889       │ 14908       │ LAS       │ SNA       │ 236     │\n",
      "│ 5   │ 12217       │ 12264       │ HSV       │ IAD       │ 640     │\n",
      "│ 6   │ 13198       │ 14908       │ MCI       │ SNA       │ 1363    │\n",
      "\n",
      "│ Row │ passengers │ fare    │ carrier_lg │ large_ms │ fare_lg  │ carrier_low │\n",
      "│     │ \u001b[90mInt64\u001b[39m      │ \u001b[90mFloat64\u001b[39m │ \u001b[90mString?\u001b[39m    │ \u001b[90mFloat64?\u001b[39m │ \u001b[90mFloat64?\u001b[39m │ \u001b[90mString?\u001b[39m     │\n",
      "├─────┼────────────┼─────────┼────────────┼──────────┼──────────┼─────────────┤\n",
      "│ 1   │ 200        │ 226.59  │ DL         │ 0.38     │ 247.69   │ US          │\n",
      "│ 2   │ 5          │ 280.39  │ UA         │ 0.73     │ 292.6    │ NW          │\n",
      "│ 3   │ 152        │ 239.12  │ US         │ 0.93     │ 245.7    │ CO          │\n",
      "│ 4   │ 1096       │ 111.74  │ WN         │ 0.58     │ 118.28   │ US          │\n",
      "│ 5   │ 21         │ 242.76  │ DL         │ 0.48     │ 275.5    │ UA          │\n",
      "│ 6   │ 175        │ 201.46  │ WN         │ 0.38     │ 208.53   │ F9          │\n",
      "\n",
      "│ Row │ lf_ms    │ fare_low │ Geocoded_City1                                 │\n",
      "│     │ \u001b[90mFloat64?\u001b[39m │ \u001b[90mFloat64?\u001b[39m │ \u001b[90mUnion{Missing, String}\u001b[39m                         │\n",
      "├─────┼──────────┼──────────┼────────────────────────────────────────────────┤\n",
      "│ 1   │ 0.2      │ 166.99   │ Salt Lake City, UT\\n(40.758478, -111.888142)   │\n",
      "│ 2   │ 0.24     │ 248.27   │ Colorado Springs, CO\\n(38.835224, -104.819798) │\n",
      "│ 3   │ 0.03     │ 71.3     │ Pittsburgh, PA\\n(40.442169, -79.994945)        │\n",
      "│ 4   │ 0.41     │ 102.75   │ Las Vegas, NV\\n(36.169202, -115.140597)        │\n",
      "│ 5   │ 0.25     │ 197.69   │ Huntsville, AL\\n(34.729538, -86.585283)        │\n",
      "│ 6   │ 0.11     │ 162.07   │ Kansas City, MO\\n(39.099792, -94.578559)       │\n",
      "\n",
      "│ Row │ Geocoded_City2                                                 │\n",
      "│     │ \u001b[90mUnion{Missing, String}\u001b[39m                                         │\n",
      "├─────┼────────────────────────────────────────────────────────────────┤\n",
      "│ 1   │ Tampa, FL (Metropolitan Area)\\n(37.8606, -78.804199)           │\n",
      "│ 2   │ New York City, NY (Metropolitan Area)\\n(40.123164, -75.333718) │\n",
      "│ 3   │ Washington, DC (Metropolitan Area)\\n(38.892062, -77.019912)    │\n",
      "│ 4   │ Los Angeles, CA (Metropolitan Area)\\n(34.052238, -118.243344)  │\n",
      "│ 5   │ Washington, DC (Metropolitan Area)\\n(38.892062, -77.019912)    │\n",
      "│ 6   │ Los Angeles, CA (Metropolitan Area)\\n(34.052238, -118.243344)  │\n",
      "\n",
      "│ Row │ tbl1apk               │ when    │\n",
      "│     │ \u001b[90mString\u001b[39m                │ \u001b[90mFloat64\u001b[39m │\n",
      "├─────┼───────────────────────┼─────────┤\n",
      "│ 1   │ 201011486915304SLCTPA │ 2010.0  │\n",
      "│ 2   │ 199841110912197COSHPN │ 1998.75 │\n",
      "│ 3   │ 199841412210821PITBWI │ 1998.75 │\n",
      "│ 4   │ 200931288914908LASSNA │ 2009.5  │\n",
      "│ 5   │ 199341221712264HSVIAD │ 1993.75 │\n",
      "│ 6   │ 201041319814908MCISNA │ 2010.75 │"
     ]
    }
   ],
   "source": [
    "println(size(acs))\n",
    "println(typeof(acs))\n",
    "println(names(acs));\n",
    "showall(head(acs))"
   ]
  },
  {
   "cell_type": "code",
   "execution_count": 79,
   "metadata": {},
   "outputs": [
    {
     "name": "stdout",
     "output_type": "stream",
     "text": [
      "airport_to_id = Dict{Any,Any}(\"MPB\" => 13439,\"ORH\" => 13933,\"MAF\" => 13158,\"DFW\" => 11298,\"SAN\" => 14679,\"IAD\" => 12264,\"FLL\" => 11697,\"MYR\" => 13577,\"LGA\" => 12953,\"FNL\" => 11719,\"FNT\" => 11721,\"SRQ\" => 14986,\"EVV\" => 11612,\"BLI\" => 10666,\"HPN\" => 12197,\"SBN\" => 14696,\"STS\" => 15023,\"SEA\" => 14747,\"LCK\" => 12917,\"JAC\" => 12441,\"MSY\" => 13495,\"ICT\" => 12278,\"ROC\" => 14576,\"CGX\" => 10977,\"TUS\" => 15376,\"PDX\" => 14057,\"BFI\" => 10559,\"MSP\" => 13487,\"PVD\" => 14307,\"MRY\" => 13476,\"LIT\" => 12992,\"MDW\" => 13232,\"PAE\" => 14004,\"SFO\" => 14771,\"SYR\" => 15096,\"CAE\" => 10868,\"SNA\" => 14908,\"MCO\" => 13204,\"AMA\" => 10279,\"AGS\" => 10208,\"USA\" => 12544,\"PIA\" => 14108,\"SAC\" => 14672,\"AIY\" => 10227,\"SFB\" => 14761,\"SJC\" => 14831,\"PVU\" => 14314,\"RDU\" => 14492,\"EFD\" => 11495,\"MVY\" => 13541,\"DCA\" => 11278,\"LBE\" => 12898,\"SGF\" => 14783,\"LBB\" => 12896,\"ORF\" => 13931,\"FCA\" => 11648,\"BZN\" => 10849,\"BDL\" => 10529,\"SBS\" => 14699,\"TSS\" => 15346,\"DET\" => 11295,\"HSV\" => 12217,\"SMF\" => 14893,\"FWA\" => 11823,\"RNO\" => 14570,\"SWF\" => 15070,\"ACY\" => 10158,\"MOT\" => 13433,\"CID\" => 11003,\"OAK\" => 13796,\"GPT\" => 11973,\"TYS\" => 15412,\"CMH\" => 11066,\"ISP\" => 12391,\"DTW\" => 11433,\"EYW\" => 11624,\"BUF\" => 10792,\"ALB\" => 10257,\"ASE\" => 10372,\"MOB\" => 13422,\"AVL\" => 10431,\"MKE\" => 13342,\"GRR\" => 11986,\"SAT\" => 14683,\"GSP\" => 11996,\"MKC\" => 13341,\"ROA\" => 14574,\"JRB\" => 12546,\"MFR\" => 13264,\"PIE\" => 14112,\"XNA\" => 15919,\"BIL\" => 10620,\"BUR\" => 10800,\"COS\" => 11109,\"LNK\" => 13029,\"CAK\" => 10874,\"ATL\" => 10397,\"BOS\" => 10721,\"MLB\" => 13360,\"JAX\" => 12451,\"TOL\" => 15295,\"MFE\" => 13256,\"ABQ\" => 10140,\"ORD\" => 13930,\"DTT\" => 11432,\"FAR\" => 11637,\"FSD\" => 11775,\"ACV\" => 10157,\"LAN\" => 12884,\"TLH\" => 15249,\"WAS\" => 15715,\"ORL\" => 13936,\"MGM\" => 13277,\"FAT\" => 11638,\"DAY\" => 11267,\"PIT\" => 14122,\"PSP\" => 14262,\"BMI\" => 10685,\"SDF\" => 14730,\"OMA\" => 13871,\"ABE\" => 10135,\"TPA\" => 15304,\"GSO\" => 11995,\"IAH\" => 12266,\"DEN\" => 11292,\"BTR\" => 10781,\"PNS\" => 14193,\"ECP\" => 11481,\"BOI\" => 10713,\"ELP\" => 11540,\"JFK\" => 12478,\"BNA\" => 10693,\"CLT\" => 11057,\"AZA\" => 10466,\"SLC\" => 14869,\"HRL\" => 12206,\"RDM\" => 14489,\"ONT\" => 13891,\"AUS\" => 16440,\"JAN\" => 12448,\"MSN\" => 13485,\"RIC\" => 14524,\"BTV\" => 10785,\"IAG\" => 12265,\"LEX\" => 12945,\"GYY\" => 12055,\"HOU\" => 12191,\"CLE\" => 11042,\"MDT\" => 13230,\"OKC\" => 13851,\"IND\" => 12339,\"TTN\" => 15356,\"EWR\" => 11618,\"ILM\" => 12323,\"EUG\" => 11603,\"PWM\" => 14321,\"STP\" => 15020,\"MIA\" => 13303,\"TUL\" => 15370,\"LAS\" => 12889,\"LAX\" => 12892,\"GFK\" => 11898,\"PHX\" => 14107,\"CHA\" => 10980,\"LGB\" => 12954,\"PSC\" => 14252,\"BHC\" => 10590,\"STL\" => 15016,\"PBI\" => 14027,\"MHT\" => 13296,\"CHI\" => 10986,\"BGR\" => 10581,\"MBS\" => 13184,\"CHS\" => 10994,\"PHF\" => 14098,\"FYV\" => 11834,\"BWI\" => 10821,\"DAL\" => 11259,\"DAB\" => 11252,\"MCI\" => 13198,\"PHL\" => 14100,\"CRP\" => 11140,\"FTW\" => 11789,\"SBA\" => 14689,\"MEM\" => 13244,\"WHR\" => 15758,\"SHV\" => 14814,\"MSO\" => 13486,\"PBG\" => 14025,\"RSW\" => 14635,\"BIS\" => 10627,\"CHO\" => 10990,\"HFD\" => 12108,\"DSM\" => 11423,\"VPS\" => 15624,\"HDN\" => 12094,\"VGT\" => 15589,\"CVG\" => 11193,\"SPI\" => 14952,\"FMY\" => 11714,\"GEG\" => 11884,\"BHM\" => 10599,\"EGE\" => 11503,\"HVN\" => 12244,\"NYC\" => 13784,\"ACK\" => 10154,\"HAR\" => 12070,\"SAV\" => 14685)\n"
     ]
    },
    {
     "data": {
      "text/plain": [
       "Dict{Any,Any} with 208 entries:\n",
       "  \"MPB\" => 13439\n",
       "  \"ORH\" => 13933\n",
       "  \"MAF\" => 13158\n",
       "  \"DFW\" => 11298\n",
       "  \"SAN\" => 14679\n",
       "  \"IAD\" => 12264\n",
       "  \"FLL\" => 11697\n",
       "  \"MYR\" => 13577\n",
       "  \"LGA\" => 12953\n",
       "  \"FNL\" => 11719\n",
       "  \"FNT\" => 11721\n",
       "  \"SRQ\" => 14986\n",
       "  \"EVV\" => 11612\n",
       "  \"BLI\" => 10666\n",
       "  \"HPN\" => 12197\n",
       "  \"SBN\" => 14696\n",
       "  \"STS\" => 15023\n",
       "  \"SEA\" => 14747\n",
       "  \"LCK\" => 12917\n",
       "  \"JAC\" => 12441\n",
       "  \"MSY\" => 13495\n",
       "  \"ICT\" => 12278\n",
       "  \"ROC\" => 14576\n",
       "  \"CGX\" => 10977\n",
       "  \"TUS\" => 15376\n",
       "  ⋮     => ⋮"
      ]
     },
     "execution_count": 79,
     "metadata": {},
     "output_type": "execute_result"
    }
   ],
   "source": [
    "# Build Airport -> Airport_ID dict\n",
    "airport_to_id = Dict()\n",
    "for i = 1:size(acs,1)\n",
    "    row = acs[i,:]\n",
    "    if ! haskey(airport_to_id, row[:airport_1])\n",
    "        airport_to_id[row[:airport_1]] = row[:airportid_1]\n",
    "    end\n",
    "    if ! haskey(airport_to_id, row[:airport_2])\n",
    "        airport_to_id[row[:airport_2]] = row[:airportid_2]\n",
    "    end\n",
    "end\n",
    "@show airport_to_id"
   ]
  },
  {
   "cell_type": "code",
   "execution_count": 80,
   "metadata": {},
   "outputs": [
    {
     "name": "stdout",
     "output_type": "stream",
     "text": [
      "Overall average fare (mean, median, std)\n",
      "217.73721998358158\n",
      "208.42\n",
      "82.63151628703632\n",
      "\n",
      "Average fare for the lowest carrier (mean, median, std)\n",
      "190.17554171431811\n",
      "181.08\n",
      "73.1644790936143\n",
      "\n",
      "Average fare for the carrier with the largest market share (mean, median, std)\n",
      "217.49975798146238\n",
      "207.07\n",
      "84.42671673655438\n"
     ]
    }
   ],
   "source": [
    "fare = acs[:fare]; # Overall average fare\n",
    "println(\"Overall average fare (mean, median, std)\")\n",
    "println(mean(fare))\n",
    "println(median(fare))\n",
    "println(std(fare))\n",
    "\n",
    "fare_low = acs[:fare_low]; # Average fare for the lowest carrier\n",
    "fare_low = fare_low[.!ismissing.(fare_low)]\n",
    "println(\"\\nAverage fare for the lowest carrier (mean, median, std)\")\n",
    "println(mean(fare_low))\n",
    "println(median(fare_low))\n",
    "println(std(fare_low))\n",
    "\n",
    "fare_lg = acs[:fare_lg]; # Average fare for the carrier with the largest market share\n",
    "fare_lg = fare_lg[.!ismissing.(fare_lg)]\n",
    "println(\"\\nAverage fare for the carrier with the largest market share (mean, median, std)\")\n",
    "println(mean(fare_lg))\n",
    "println(median(fare_lg))\n",
    "println(std(fare_lg))"
   ]
  },
  {
   "cell_type": "code",
   "execution_count": 81,
   "metadata": {},
   "outputs": [
    {
     "data": {
      "text/html": [
       "<table class=\"data-frame\"><thead><tr><th></th><th>tbl</th><th>Year</th><th>quarter</th><th>citymarketid_1</th><th>citymarketid_2</th><th>city1</th></tr><tr><th></th><th>String</th><th>Int64</th><th>Int64</th><th>Int64</th><th>Int64</th><th>String</th></tr></thead><tbody><p>101 rows × 24 columns (omitted printing of 18 columns)</p><tr><th>1</th><td>Table 1a</td><td>2004</td><td>3</td><td>31703</td><td>33192</td><td>New York City, NY (Metropolitan Area)</td></tr><tr><th>2</th><td>Table 1a</td><td>2001</td><td>2</td><td>31703</td><td>33192</td><td>New York City, NY (Metropolitan Area)</td></tr><tr><th>3</th><td>Table 1a</td><td>2008</td><td>2</td><td>31703</td><td>33192</td><td>New York City, NY (Metropolitan Area)</td></tr><tr><th>4</th><td>Table 1a</td><td>2010</td><td>3</td><td>31703</td><td>33192</td><td>New York City, NY (Metropolitan Area)</td></tr><tr><th>5</th><td>Table 1a</td><td>2012</td><td>1</td><td>31703</td><td>33192</td><td>New York City, NY (Metropolitan Area)</td></tr><tr><th>6</th><td>Table 1a</td><td>1996</td><td>3</td><td>31703</td><td>33192</td><td>New York City, NY (Metropolitan Area)</td></tr><tr><th>7</th><td>Table 1a</td><td>2004</td><td>2</td><td>31703</td><td>33192</td><td>New York City, NY (Metropolitan Area)</td></tr><tr><th>8</th><td>Table 1a</td><td>2008</td><td>3</td><td>31703</td><td>33192</td><td>New York City, NY (Metropolitan Area)</td></tr><tr><th>9</th><td>Table 1a</td><td>1999</td><td>3</td><td>31703</td><td>33192</td><td>New York City, NY (Metropolitan Area)</td></tr><tr><th>10</th><td>Table 1a</td><td>1998</td><td>3</td><td>31703</td><td>33192</td><td>New York City, NY (Metropolitan Area)</td></tr><tr><th>11</th><td>Table 1a</td><td>2000</td><td>4</td><td>31703</td><td>33192</td><td>New York City, NY (Metropolitan Area)</td></tr><tr><th>12</th><td>Table 1a</td><td>1998</td><td>2</td><td>31703</td><td>33192</td><td>New York City, NY (Metropolitan Area)</td></tr><tr><th>13</th><td>Table 1a</td><td>2010</td><td>2</td><td>31703</td><td>33192</td><td>New York City, NY (Metropolitan Area)</td></tr><tr><th>14</th><td>Table 1a</td><td>2007</td><td>4</td><td>31703</td><td>33192</td><td>New York City, NY (Metropolitan Area)</td></tr><tr><th>15</th><td>Table 1a</td><td>2012</td><td>4</td><td>31703</td><td>33192</td><td>New York City, NY (Metropolitan Area)</td></tr><tr><th>16</th><td>Table 1a</td><td>2003</td><td>1</td><td>31703</td><td>33192</td><td>New York City, NY (Metropolitan Area)</td></tr><tr><th>17</th><td>Table 1a</td><td>2011</td><td>1</td><td>31703</td><td>33192</td><td>New York City, NY (Metropolitan Area)</td></tr><tr><th>18</th><td>Table 1a</td><td>2008</td><td>1</td><td>31703</td><td>33192</td><td>New York City, NY (Metropolitan Area)</td></tr><tr><th>19</th><td>Table 1a</td><td>2001</td><td>4</td><td>31703</td><td>33192</td><td>New York City, NY (Metropolitan Area)</td></tr><tr><th>20</th><td>Table 1a</td><td>2012</td><td>2</td><td>31703</td><td>33192</td><td>New York City, NY (Metropolitan Area)</td></tr><tr><th>21</th><td>Table 1a</td><td>2006</td><td>3</td><td>31703</td><td>33192</td><td>New York City, NY (Metropolitan Area)</td></tr><tr><th>22</th><td>Table 1a</td><td>2013</td><td>3</td><td>31703</td><td>33192</td><td>New York City, NY (Metropolitan Area)</td></tr><tr><th>23</th><td>Table 1a</td><td>2008</td><td>4</td><td>31703</td><td>33192</td><td>New York City, NY (Metropolitan Area)</td></tr><tr><th>24</th><td>Table 1a</td><td>2013</td><td>2</td><td>31703</td><td>33192</td><td>New York City, NY (Metropolitan Area)</td></tr><tr><th>25</th><td>Table 1a</td><td>2009</td><td>4</td><td>31703</td><td>33192</td><td>New York City, NY (Metropolitan Area)</td></tr><tr><th>26</th><td>Table 1a</td><td>2010</td><td>1</td><td>31703</td><td>33192</td><td>New York City, NY (Metropolitan Area)</td></tr><tr><th>27</th><td>Table 1a</td><td>2001</td><td>3</td><td>31703</td><td>33192</td><td>New York City, NY (Metropolitan Area)</td></tr><tr><th>28</th><td>Table 1a</td><td>1997</td><td>2</td><td>31703</td><td>33192</td><td>New York City, NY (Metropolitan Area)</td></tr><tr><th>29</th><td>Table 1a</td><td>2003</td><td>4</td><td>31703</td><td>33192</td><td>New York City, NY (Metropolitan Area)</td></tr><tr><th>30</th><td>Table 1a</td><td>1994</td><td>1</td><td>31703</td><td>33192</td><td>New York City, NY (Metropolitan Area)</td></tr><tr><th>&vellip;</th><td>&vellip;</td><td>&vellip;</td><td>&vellip;</td><td>&vellip;</td><td>&vellip;</td><td>&vellip;</td></tr></tbody></table>"
      ],
      "text/latex": [
       "\\begin{tabular}{r|ccccccc}\n",
       "\t& tbl & Year & quarter & citymarketid\\_1 & citymarketid\\_2 & city1 & \\\\\n",
       "\t\\hline\n",
       "\t& String & Int64 & Int64 & Int64 & Int64 & String & \\\\\n",
       "\t\\hline\n",
       "\t1 & Table 1a & 2004 & 3 & 31703 & 33192 & New York City, NY (Metropolitan Area) & $\\dots$ \\\\\n",
       "\t2 & Table 1a & 2001 & 2 & 31703 & 33192 & New York City, NY (Metropolitan Area) & $\\dots$ \\\\\n",
       "\t3 & Table 1a & 2008 & 2 & 31703 & 33192 & New York City, NY (Metropolitan Area) & $\\dots$ \\\\\n",
       "\t4 & Table 1a & 2010 & 3 & 31703 & 33192 & New York City, NY (Metropolitan Area) & $\\dots$ \\\\\n",
       "\t5 & Table 1a & 2012 & 1 & 31703 & 33192 & New York City, NY (Metropolitan Area) & $\\dots$ \\\\\n",
       "\t6 & Table 1a & 1996 & 3 & 31703 & 33192 & New York City, NY (Metropolitan Area) & $\\dots$ \\\\\n",
       "\t7 & Table 1a & 2004 & 2 & 31703 & 33192 & New York City, NY (Metropolitan Area) & $\\dots$ \\\\\n",
       "\t8 & Table 1a & 2008 & 3 & 31703 & 33192 & New York City, NY (Metropolitan Area) & $\\dots$ \\\\\n",
       "\t9 & Table 1a & 1999 & 3 & 31703 & 33192 & New York City, NY (Metropolitan Area) & $\\dots$ \\\\\n",
       "\t10 & Table 1a & 1998 & 3 & 31703 & 33192 & New York City, NY (Metropolitan Area) & $\\dots$ \\\\\n",
       "\t11 & Table 1a & 2000 & 4 & 31703 & 33192 & New York City, NY (Metropolitan Area) & $\\dots$ \\\\\n",
       "\t12 & Table 1a & 1998 & 2 & 31703 & 33192 & New York City, NY (Metropolitan Area) & $\\dots$ \\\\\n",
       "\t13 & Table 1a & 2010 & 2 & 31703 & 33192 & New York City, NY (Metropolitan Area) & $\\dots$ \\\\\n",
       "\t14 & Table 1a & 2007 & 4 & 31703 & 33192 & New York City, NY (Metropolitan Area) & $\\dots$ \\\\\n",
       "\t15 & Table 1a & 2012 & 4 & 31703 & 33192 & New York City, NY (Metropolitan Area) & $\\dots$ \\\\\n",
       "\t16 & Table 1a & 2003 & 1 & 31703 & 33192 & New York City, NY (Metropolitan Area) & $\\dots$ \\\\\n",
       "\t17 & Table 1a & 2011 & 1 & 31703 & 33192 & New York City, NY (Metropolitan Area) & $\\dots$ \\\\\n",
       "\t18 & Table 1a & 2008 & 1 & 31703 & 33192 & New York City, NY (Metropolitan Area) & $\\dots$ \\\\\n",
       "\t19 & Table 1a & 2001 & 4 & 31703 & 33192 & New York City, NY (Metropolitan Area) & $\\dots$ \\\\\n",
       "\t20 & Table 1a & 2012 & 2 & 31703 & 33192 & New York City, NY (Metropolitan Area) & $\\dots$ \\\\\n",
       "\t21 & Table 1a & 2006 & 3 & 31703 & 33192 & New York City, NY (Metropolitan Area) & $\\dots$ \\\\\n",
       "\t22 & Table 1a & 2013 & 3 & 31703 & 33192 & New York City, NY (Metropolitan Area) & $\\dots$ \\\\\n",
       "\t23 & Table 1a & 2008 & 4 & 31703 & 33192 & New York City, NY (Metropolitan Area) & $\\dots$ \\\\\n",
       "\t24 & Table 1a & 2013 & 2 & 31703 & 33192 & New York City, NY (Metropolitan Area) & $\\dots$ \\\\\n",
       "\t25 & Table 1a & 2009 & 4 & 31703 & 33192 & New York City, NY (Metropolitan Area) & $\\dots$ \\\\\n",
       "\t26 & Table 1a & 2010 & 1 & 31703 & 33192 & New York City, NY (Metropolitan Area) & $\\dots$ \\\\\n",
       "\t27 & Table 1a & 2001 & 3 & 31703 & 33192 & New York City, NY (Metropolitan Area) & $\\dots$ \\\\\n",
       "\t28 & Table 1a & 1997 & 2 & 31703 & 33192 & New York City, NY (Metropolitan Area) & $\\dots$ \\\\\n",
       "\t29 & Table 1a & 2003 & 4 & 31703 & 33192 & New York City, NY (Metropolitan Area) & $\\dots$ \\\\\n",
       "\t30 & Table 1a & 1994 & 1 & 31703 & 33192 & New York City, NY (Metropolitan Area) & $\\dots$ \\\\\n",
       "\t$\\dots$ & $\\dots$ & $\\dots$ & $\\dots$ & $\\dots$ & $\\dots$ & $\\dots$ &  \\\\\n",
       "\\end{tabular}\n"
      ],
      "text/plain": [
       "101×24 DataFrame. Omitted printing of 19 columns\n",
       "│ Row │ tbl      │ Year  │ quarter │ citymarketid_1 │ citymarketid_2 │\n",
       "│     │ \u001b[90mString\u001b[39m   │ \u001b[90mInt64\u001b[39m │ \u001b[90mInt64\u001b[39m   │ \u001b[90mInt64\u001b[39m          │ \u001b[90mInt64\u001b[39m          │\n",
       "├─────┼──────────┼───────┼─────────┼────────────────┼────────────────┤\n",
       "│ 1   │ Table 1a │ 2004  │ 3       │ 31703          │ 33192          │\n",
       "│ 2   │ Table 1a │ 2001  │ 2       │ 31703          │ 33192          │\n",
       "│ 3   │ Table 1a │ 2008  │ 2       │ 31703          │ 33192          │\n",
       "│ 4   │ Table 1a │ 2010  │ 3       │ 31703          │ 33192          │\n",
       "│ 5   │ Table 1a │ 2012  │ 1       │ 31703          │ 33192          │\n",
       "│ 6   │ Table 1a │ 1996  │ 3       │ 31703          │ 33192          │\n",
       "│ 7   │ Table 1a │ 2004  │ 2       │ 31703          │ 33192          │\n",
       "│ 8   │ Table 1a │ 2008  │ 3       │ 31703          │ 33192          │\n",
       "│ 9   │ Table 1a │ 1999  │ 3       │ 31703          │ 33192          │\n",
       "│ 10  │ Table 1a │ 1998  │ 3       │ 31703          │ 33192          │\n",
       "⋮\n",
       "│ 91  │ Table 1a │ 2017  │ 1       │ 31703          │ 33192          │\n",
       "│ 92  │ Table 1a │ 2017  │ 2       │ 31703          │ 33192          │\n",
       "│ 93  │ Table 1a │ 2017  │ 3       │ 31703          │ 33192          │\n",
       "│ 94  │ Table 1a │ 2017  │ 4       │ 31703          │ 33192          │\n",
       "│ 95  │ Table 1a │ 2018  │ 1       │ 31703          │ 33192          │\n",
       "│ 96  │ Table 1a │ 2018  │ 2       │ 31703          │ 33192          │\n",
       "│ 97  │ Table1a  │ 2018  │ 4       │ 31703          │ 33192          │\n",
       "│ 98  │ Table1a  │ 2019  │ 1       │ 31703          │ 33192          │\n",
       "│ 99  │ Table1a  │ 2019  │ 2       │ 31703          │ 33192          │\n",
       "│ 100 │ Table1a  │ 2019  │ 3       │ 31703          │ 33192          │\n",
       "│ 101 │ Table1a  │ 2019  │ 4       │ 31703          │ 33192          │"
      ]
     },
     "execution_count": 81,
     "metadata": {},
     "output_type": "execute_result"
    }
   ],
   "source": [
    "from_nyc_idxs = acs[:airport_1].== \"JFK\"\n",
    "to_sm_idxs = acs[:airport_2].== \"SMF\"\n",
    "trip_idxs = from_nyc_idxs .& to_sf_idxs\n",
    "\n",
    "nyc_to_sm = acs[trip_idxs,:]"
   ]
  },
  {
   "cell_type": "markdown",
   "metadata": {},
   "source": [
    "# Plotting"
   ]
  },
  {
   "cell_type": "code",
   "execution_count": 9,
   "metadata": {},
   "outputs": [
    {
     "data": {
      "text/plain": [
       "plotdata (generic function with 1 method)"
      ]
     },
     "execution_count": 9,
     "metadata": {},
     "output_type": "execute_result"
    }
   ],
   "source": [
    "function plotdata(x,y; xlab=\"x\", ylab=\"y\", margin=.05)\n",
    "    scatter(x,y, label=\"data\", legend=:topleft)\n",
    "    xlabel!(xlab)\n",
    "    ylabel!(ylab)\n",
    "    range_y = maximum(y) - minimum(y)\n",
    "    range_x = maximum(x) - minimum(x)\n",
    "    ylims!((minimum(y)-margin*range_y,maximum(y)+margin*range_y))\n",
    "    xlims!((minimum(x)-margin*range_x,maximum(x)+margin*range_x))\n",
    "end"
   ]
  },
  {
   "cell_type": "code",
   "execution_count": 92,
   "metadata": {
    "scrolled": false
   },
   "outputs": [
    {
     "data": {
      "image/png": "[encoded data removed]"
     },
     "execution_count": 92,
     "metadata": {},
     "output_type": "execute_result"
    }
   ],
   "source": [
    "plotdata(nyc_to_sm[:when], nyc_to_sm[:fare], xlab=\"When\", ylab=\"Average Fare from JFK to SMF\")"
   ]
  },
  {
   "cell_type": "code",
   "execution_count": 93,
   "metadata": {},
   "outputs": [
    {
     "data": {
      "image/png": "[encoded data removed]"
     },
     "execution_count": 93,
     "metadata": {},
     "output_type": "execute_result"
    }
   ],
   "source": [
    "plotdata(nyc_to_sm[:when], nyc_to_sm[:fare_lg], xlab=\"When\", ylab=\"Fare_lg from JFK to SMF\")"
   ]
  },
  {
   "cell_type": "code",
   "execution_count": 94,
   "metadata": {},
   "outputs": [
    {
     "data": {
      "image/png": "[encoded data removed]"
     },
     "execution_count": 94,
     "metadata": {},
     "output_type": "execute_result"
    }
   ],
   "source": [
    "plotdata(nyc_to_sm[:when], nyc_to_sm[:large_ms], xlab=\"When\", ylab=\"Largest market share on flights from JFK to SMF\")"
   ]
  },
  {
   "cell_type": "code",
   "execution_count": 95,
   "metadata": {},
   "outputs": [
    {
     "data": {
      "image/png": "[encoded data removed]"
     },
     "execution_count": 95,
     "metadata": {},
     "output_type": "execute_result"
    }
   ],
   "source": [
    "plotdata(nyc_to_sm[:when], nyc_to_sm[:fare_low], xlab=\"When\", ylab=\"Fare_low from JFK to SMF\")"
   ]
  },
  {
   "cell_type": "markdown",
   "metadata": {},
   "source": [
    "# Modeling\n"
   ]
  },
  {
   "cell_type": "code",
   "execution_count": 37,
   "metadata": {},
   "outputs": [
    {
     "name": "stdout",
     "output_type": "stream",
     "text": [
      "train_error = 81.97260987044933\n",
      "test_error = 81.12789439674037\n"
     ]
    }
   ],
   "source": [
    "# Split the data into train and test\n",
    "test_frac = .2\n",
    "n = size(acs,1)\n",
    "n_te = Int(round(n*test_frac))\n",
    "n_tr = n - n_te\n",
    "idxs = rand(1:n,n)\n",
    "\n",
    "train = acs[idxs[1:n_tr],:]\n",
    "test = acs[idxs[n_tr+1:n],:]\n",
    "@assert size(acs,1) == size(train,1) + size(test,1)\n",
    "\n",
    "# Learn from the train set\n",
    "function get_Xy(dataset)\n",
    "    X = [dataset[:when] dataset[:airportid_1] dataset[:airportid_2] ones(size(dataset,1))]\n",
    "    y = dataset[:fare]\n",
    "    return X,y\n",
    "end\n",
    "X_tr, y_tr = get_Xy(train)\n",
    "X_te, y_te = get_Xy(test)\n",
    "\n",
    "w = X_tr \\ y_tr\n",
    "\n",
    "# Look at the MSE\n",
    "train_error = sqrt(mean((y_tr - X_tr*w).^2))\n",
    "@show train_error\n",
    "\n",
    "test_error = sqrt(mean((y_te - X_te*w).^2))\n",
    "@show test_error;"
   ]
  },
  {
   "cell_type": "markdown",
   "metadata": {},
   "source": [
    "# Histograms\n"
   ]
  },
  {
   "cell_type": "code",
   "execution_count": 49,
   "metadata": {},
   "outputs": [
    {
     "data": {
      "image/png": "[encoded data removed]"
     },
     "execution_count": 49,
     "metadata": {},
     "output_type": "execute_result"
    }
   ],
   "source": [
    "@df acs histogram(:fare)\n",
    "xlabel!(\"Fare\")\n",
    "ylabel!(\"Frequency\")"
   ]
  },
  {
   "cell_type": "code",
   "execution_count": 57,
   "metadata": {},
   "outputs": [
    {
     "data": {
      "image/png": "[encoded data removed]"
     },
     "execution_count": 57,
     "metadata": {},
     "output_type": "execute_result"
    }
   ],
   "source": [
    "@df acs[ acs[:fare].<750,:  ] histogram(:fare)\n",
    "xlabel!(\"Fare\")\n",
    "ylabel!(\"Frequency\")"
   ]
  },
  {
   "cell_type": "code",
   "execution_count": 50,
   "metadata": {},
   "outputs": [
    {
     "data": {
      "image/png": "[encoded data removed]"
     },
     "execution_count": 50,
     "metadata": {},
     "output_type": "execute_result"
    }
   ],
   "source": [
    "@df dropmissing(acs, :large_ms) density(:large_ms)\n",
    "# histogram(acs[:large_ms], label=\"large_ms\")\n",
    "xlabel!(\"large_ms\")\n",
    "ylabel!(\"Density\")"
   ]
  },
  {
   "cell_type": "code",
   "execution_count": 47,
   "metadata": {},
   "outputs": [
    {
     "name": "stdout",
     "output_type": "stream",
     "text": [
      "large_ms (mean, median, std)\n",
      "0.6581429553378247\n",
      "0.65\n",
      "0.22490046928040316\n"
     ]
    }
   ],
   "source": [
    "large_ms = acs[:large_ms] # Overall average fare\n",
    "large_ms = large_ms[.!ismissing.(large_ms)]\n",
    "println(\"large_ms (mean, median, std)\")\n",
    "println(mean(large_ms))\n",
    "println(median(large_ms))\n",
    "println(std(large_ms))"
   ]
  },
  {
   "cell_type": "markdown",
   "metadata": {},
   "source": [
    "# Below this line is not relevant\n",
    "\n",
    "I copied this notebook from the eda class demo to get started, leaving the code for now because it may be relevant later."
   ]
  },
  {
   "cell_type": "markdown",
   "metadata": {},
   "source": [
    "**Poll**: Is this plausible for US income distribution?\n",
    "* A) No, not plausible\n",
    "* B) Yes, plausible"
   ]
  },
  {
   "cell_type": "code",
   "execution_count": 16,
   "metadata": {},
   "outputs": [
    {
     "ename": "LoadError",
     "evalue": "ArgumentError: column name :HHINCOME not found in the data frame",
     "output_type": "error",
     "traceback": [
      "ArgumentError: column name :HHINCOME not found in the data frame",
      "",
      "Stacktrace:",
      " [1] lookupname at /Users/eoin/.julia/packages/DataFrames/cdZCk/src/other/index.jl:286 [inlined]",
      " [2] getindex at /Users/eoin/.julia/packages/DataFrames/cdZCk/src/other/index.jl:295 [inlined]",
      " [3] getindex(::DataFrame, ::typeof(!), ::Symbol) at /Users/eoin/.julia/packages/DataFrames/cdZCk/src/dataframe/dataframe.jl:435",
      " [4] getindex(::DataFrame, ::Symbol) at ./deprecated.jl:72",
      " [5] top-level scope at In[16]:1",
      " [6] include_string(::Function, ::Module, ::String, ::String) at ./loading.jl:1091"
     ]
    }
   ],
   "source": [
    "rows_with_99percent_income = acs[:HHINCOME].<4e6\n",
    "acs99 = acs[rows_with_99percent_income,:];"
   ]
  },
  {
   "cell_type": "code",
   "execution_count": 17,
   "metadata": {},
   "outputs": [
    {
     "ename": "LoadError",
     "evalue": "UndefVarError: acs99 not defined",
     "output_type": "error",
     "traceback": [
      "UndefVarError: acs99 not defined",
      "",
      "Stacktrace:",
      " [1] top-level scope at In[17]:1",
      " [2] include_string(::Function, ::Module, ::String, ::String) at ./loading.jl:1091"
     ]
    }
   ],
   "source": [
    "head(acs99)"
   ]
  },
  {
   "cell_type": "code",
   "execution_count": 18,
   "metadata": {},
   "outputs": [
    {
     "ename": "LoadError",
     "evalue": "UndefVarError: acs99 not defined",
     "output_type": "error",
     "traceback": [
      "UndefVarError: acs99 not defined",
      "",
      "Stacktrace:",
      " [1] top-level scope at In[18]:1",
      " [2] include_string(::Function, ::Module, ::String, ::String) at ./loading.jl:1091"
     ]
    }
   ],
   "source": [
    "histogram(acs99[:HHINCOME], label=\"income\")"
   ]
  },
  {
   "cell_type": "code",
   "execution_count": 19,
   "metadata": {},
   "outputs": [
    {
     "ename": "LoadError",
     "evalue": "UndefVarError: acs99 not defined",
     "output_type": "error",
     "traceback": [
      "UndefVarError: acs99 not defined",
      "",
      "Stacktrace:",
      " [1] top-level scope at In[19]:1",
      " [2] include_string(::Function, ::Module, ::String, ::String) at ./loading.jl:1091"
     ]
    }
   ],
   "source": [
    "@df acs99 histogram(:HHINCOME, group=:FOODSTMP, label=[\"no foodstamps\" \"foodstamps\"])"
   ]
  },
  {
   "cell_type": "code",
   "execution_count": 20,
   "metadata": {},
   "outputs": [
    {
     "ename": "LoadError",
     "evalue": "UndefVarError: acs99 not defined",
     "output_type": "error",
     "traceback": [
      "UndefVarError: acs99 not defined",
      "",
      "Stacktrace:",
      " [1] top-level scope at In[20]:1",
      " [2] include_string(::Function, ::Module, ::String, ::String) at ./loading.jl:1091"
     ]
    }
   ],
   "source": [
    "@df acs99 density(:HHINCOME, group=:FOODSTMP, label=[\"no foodstamps\" \"foodstamps\"])"
   ]
  },
  {
   "cell_type": "markdown",
   "metadata": {},
   "source": [
    "# Now with recoded data\n",
    "The truncated version of the cleaned data set is in the demos repo as `acs_2013_cleaned_trunc.csv`."
   ]
  },
  {
   "cell_type": "code",
   "execution_count": 21,
   "metadata": {},
   "outputs": [
    {
     "ename": "LoadError",
     "evalue": "ArgumentError: \"acs_2013_cleaned_trunc.csv\" is not a valid file",
     "output_type": "error",
     "traceback": [
      "ArgumentError: \"acs_2013_cleaned_trunc.csv\" is not a valid file",
      "",
      "Stacktrace:",
      " [1] Header at /Users/eoin/.julia/packages/CSV/MKemC/src/header.jl:92 [inlined]",
      " [2] CSV.File(::String; header::Int64, normalizenames::Bool, datarow::Int64, skipto::Nothing, footerskip::Int64, transpose::Bool, comment::Nothing, use_mmap::Nothing, ignoreemptylines::Bool, select::Nothing, drop::Nothing, missingstrings::Array{String,1}, missingstring::String, delim::Nothing, ignorerepeated::Bool, quotechar::Char, openquotechar::Nothing, closequotechar::Nothing, escapechar::Char, dateformat::Nothing, dateformats::Nothing, decimal::UInt8, truestrings::Array{String,1}, falsestrings::Array{String,1}, type::Nothing, types::Nothing, typemap::Dict{Type,Type}, categorical::Nothing, pool::Float64, lazystrings::Bool, strict::Bool, silencewarnings::Bool, debug::Bool, parsingdebug::Bool, kw::Base.Iterators.Pairs{Symbol,Int64,Tuple{Symbol},NamedTuple{(:limit,),Tuple{Int64}}}) at /Users/eoin/.julia/packages/CSV/MKemC/src/file.jl:216",
      " [3] read(::String, ::Nothing; copycols::Bool, kwargs::Base.Iterators.Pairs{Symbol,Any,Tuple{Symbol,Symbol},NamedTuple{(:limit, :missingstring),Tuple{Int64,String}}}) at /Users/eoin/.julia/packages/CSV/MKemC/src/CSV.jl:44",
      " [4] top-level scope at In[21]:1",
      " [5] include_string(::Function, ::Module, ::String, ::String) at ./loading.jl:1091"
     ]
    }
   ],
   "source": [
    "acs = CSV.read(\"acs_2013_cleaned_trunc.csv\"; limit=10000, missingstring=\"NA\");"
   ]
  },
  {
   "cell_type": "code",
   "execution_count": 22,
   "metadata": {},
   "outputs": [
    {
     "data": {
      "text/html": [
       "<table class=\"data-frame\"><thead><tr><th></th><th>tbl</th><th>Year</th><th>quarter</th><th>citymarketid_1</th><th>citymarketid_2</th><th>city1</th></tr><tr><th></th><th>String</th><th>Int64</th><th>Int64</th><th>Int64</th><th>Int64</th><th>String</th></tr></thead><tbody><p>6 rows × 24 columns (omitted printing of 18 columns)</p><tr><th>1</th><td>Table 1a</td><td>2010</td><td>1</td><td>34614</td><td>33195</td><td>Salt Lake City, UT</td></tr><tr><th>2</th><td>Table 1a</td><td>1998</td><td>4</td><td>30189</td><td>31703</td><td>Colorado Springs, CO</td></tr><tr><th>3</th><td>Table 1a</td><td>1998</td><td>4</td><td>30198</td><td>30852</td><td>Pittsburgh, PA</td></tr><tr><th>4</th><td>Table 1a</td><td>2009</td><td>3</td><td>32211</td><td>32575</td><td>Las Vegas, NV</td></tr><tr><th>5</th><td>Table 1a</td><td>1993</td><td>4</td><td>30255</td><td>30852</td><td>Huntsville, AL</td></tr><tr><th>6</th><td>Table 1a</td><td>2010</td><td>4</td><td>33198</td><td>32575</td><td>Kansas City, MO</td></tr></tbody></table>"
      ],
      "text/latex": [
       "\\begin{tabular}{r|ccccccc}\n",
       "\t& tbl & Year & quarter & citymarketid\\_1 & citymarketid\\_2 & city1 & \\\\\n",
       "\t\\hline\n",
       "\t& String & Int64 & Int64 & Int64 & Int64 & String & \\\\\n",
       "\t\\hline\n",
       "\t1 & Table 1a & 2010 & 1 & 34614 & 33195 & Salt Lake City, UT & $\\dots$ \\\\\n",
       "\t2 & Table 1a & 1998 & 4 & 30189 & 31703 & Colorado Springs, CO & $\\dots$ \\\\\n",
       "\t3 & Table 1a & 1998 & 4 & 30198 & 30852 & Pittsburgh, PA & $\\dots$ \\\\\n",
       "\t4 & Table 1a & 2009 & 3 & 32211 & 32575 & Las Vegas, NV & $\\dots$ \\\\\n",
       "\t5 & Table 1a & 1993 & 4 & 30255 & 30852 & Huntsville, AL & $\\dots$ \\\\\n",
       "\t6 & Table 1a & 2010 & 4 & 33198 & 32575 & Kansas City, MO & $\\dots$ \\\\\n",
       "\\end{tabular}\n"
      ],
      "text/plain": [
       "6×24 DataFrame. Omitted printing of 19 columns\n",
       "│ Row │ tbl      │ Year  │ quarter │ citymarketid_1 │ citymarketid_2 │\n",
       "│     │ \u001b[90mString\u001b[39m   │ \u001b[90mInt64\u001b[39m │ \u001b[90mInt64\u001b[39m   │ \u001b[90mInt64\u001b[39m          │ \u001b[90mInt64\u001b[39m          │\n",
       "├─────┼──────────┼───────┼─────────┼────────────────┼────────────────┤\n",
       "│ 1   │ Table 1a │ 2010  │ 1       │ 34614          │ 33195          │\n",
       "│ 2   │ Table 1a │ 1998  │ 4       │ 30189          │ 31703          │\n",
       "│ 3   │ Table 1a │ 1998  │ 4       │ 30198          │ 30852          │\n",
       "│ 4   │ Table 1a │ 2009  │ 3       │ 32211          │ 32575          │\n",
       "│ 5   │ Table 1a │ 1993  │ 4       │ 30255          │ 30852          │\n",
       "│ 6   │ Table 1a │ 2010  │ 4       │ 33198          │ 32575          │"
      ]
     },
     "execution_count": 22,
     "metadata": {},
     "output_type": "execute_result"
    }
   ],
   "source": [
    "head(acs)"
   ]
  },
  {
   "cell_type": "code",
   "execution_count": 23,
   "metadata": {},
   "outputs": [
    {
     "data": {
      "text/latex": [
       "\\texttt{CSV.read(source, sink::T; kwargs...)} => T\n",
       "\n",
       "Read and parses a delimited file, materializing directly using the \\texttt{sink} function.\n",
       "\n",
       "\\texttt{CSV.read} supports all the same keyword arguments as \\href{@ref}{\\texttt{CSV.File}}.\n",
       "\n"
      ],
      "text/markdown": [
       "`CSV.read(source, sink::T; kwargs...)` => T\n",
       "\n",
       "Read and parses a delimited file, materializing directly using the `sink` function.\n",
       "\n",
       "`CSV.read` supports all the same keyword arguments as [`CSV.File`](@ref).\n"
      ],
      "text/plain": [
       "  \u001b[36mCSV.read(source, sink::T; kwargs...)\u001b[39m => T\n",
       "\n",
       "  Read and parses a delimited file, materializing directly using the \u001b[36msink\u001b[39m\n",
       "  function.\n",
       "\n",
       "  \u001b[36mCSV.read\u001b[39m supports all the same keyword arguments as \u001b[36mCSV.File\u001b[39m."
      ]
     },
     "execution_count": 23,
     "metadata": {},
     "output_type": "execute_result"
    }
   ],
   "source": [
    "?CSV.read"
   ]
  },
  {
   "cell_type": "code",
   "execution_count": 24,
   "metadata": {},
   "outputs": [
    {
     "ename": "LoadError",
     "evalue": "ArgumentError: column name :HHINCOME not found in the data frame",
     "output_type": "error",
     "traceback": [
      "ArgumentError: column name :HHINCOME not found in the data frame",
      "",
      "Stacktrace:",
      " [1] lookupname at /Users/eoin/.julia/packages/DataFrames/cdZCk/src/other/index.jl:286 [inlined]",
      " [2] getindex at /Users/eoin/.julia/packages/DataFrames/cdZCk/src/other/index.jl:295 [inlined]",
      " [3] getindex(::DataFrame, ::typeof(!), ::Symbol) at /Users/eoin/.julia/packages/DataFrames/cdZCk/src/dataframe/dataframe.jl:435",
      " [4] getindex(::DataFrame, ::Symbol) at ./deprecated.jl:72",
      " [5] top-level scope at In[24]:1",
      " [6] include_string(::Function, ::Module, ::String, ::String) at ./loading.jl:1091"
     ]
    }
   ],
   "source": [
    "summary_stats(acs[:HHINCOME])"
   ]
  },
  {
   "cell_type": "markdown",
   "metadata": {},
   "source": [
    "**Poll**: Is mean income computed here plausible for US income distribution?\n",
    "* A) No, this value is too high \n",
    "* B) Plausible\n",
    "* C) No, this value is too low"
   ]
  },
  {
   "cell_type": "code",
   "execution_count": 25,
   "metadata": {},
   "outputs": [
    {
     "ename": "LoadError",
     "evalue": "Cannot convert Symbol to series data for plotting",
     "output_type": "error",
     "traceback": [
      "Cannot convert Symbol to series data for plotting",
      "",
      "Stacktrace:",
      " [1] error(::String) at ./error.jl:33",
      " [2] _prepare_series_data(::Symbol) at /Users/eoin/.julia/packages/RecipesPipeline/tkFmN/src/series.jl:8",
      " [3] _series_data_vector(::Symbol, ::Dict{Symbol,Any}) at /Users/eoin/.julia/packages/RecipesPipeline/tkFmN/src/series.jl:27",
      " [4] macro expansion at /Users/eoin/.julia/packages/RecipesPipeline/tkFmN/src/series.jl:139 [inlined]",
      " [5] apply_recipe(::Dict{Symbol,Any}, ::Type{RecipesPipeline.SliceIt}, ::Nothing, ::Symbol, ::Nothing) at /Users/eoin/.julia/packages/RecipesBase/aQmWx/src/RecipesBase.jl:281",
      " [6] _process_userrecipes!(::Plots.Plot{Plots.PyPlotBackend}, ::Dict{Symbol,Any}, ::Tuple{Symbol}) at /Users/eoin/.julia/packages/RecipesPipeline/tkFmN/src/user_recipe.jl:35",
      " [7] recipe_pipeline!(::Plots.Plot{Plots.PyPlotBackend}, ::Dict{Symbol,Any}, ::Tuple{Symbol}) at /Users/eoin/.julia/packages/RecipesPipeline/tkFmN/src/RecipesPipeline.jl:69",
      " [8] _plot!(::Plots.Plot{Plots.PyPlotBackend}, ::Dict{Symbol,Any}, ::Tuple{Symbol}) at /Users/eoin/.julia/packages/Plots/GDtiZ/src/plot.jl:167",
      " [9] plot(::Symbol; kw::Base.Iterators.Pairs{Symbol,Symbol,Tuple{Symbol},NamedTuple{(:seriestype,),Tuple{Symbol}}}) at /Users/eoin/.julia/packages/Plots/GDtiZ/src/plot.jl:57",
      " [10] #histogram#354 at /Users/eoin/.julia/packages/RecipesBase/aQmWx/src/RecipesBase.jl:402 [inlined]",
      " [11] histogram(::Symbol) at /Users/eoin/.julia/packages/RecipesBase/aQmWx/src/RecipesBase.jl:402",
      " [12] add_label(::Array{String,1}, ::Function, ::Symbol; kwargs::Base.Iterators.Pairs{Union{},Union{},Tuple{},NamedTuple{(),Tuple{}}}) at /Users/eoin/.julia/packages/StatsPlots/6bINV/src/df.jl:153",
      " [13] add_label(::Array{String,1}, ::Function, ::Symbol) at /Users/eoin/.julia/packages/StatsPlots/6bINV/src/df.jl:150",
      " [14] (::var\"#6#7\")(::DataFrame) at ./none:0",
      " [15] top-level scope at In[25]:2",
      " [16] include_string(::Function, ::Module, ::String, ::String) at ./loading.jl:1091"
     ]
    }
   ],
   "source": [
    "# this code produces an error: histogram doesn't know how to handle missing values \n",
    "@df acs histogram(:HHINCOME) "
   ]
  },
  {
   "cell_type": "code",
   "execution_count": 26,
   "metadata": {},
   "outputs": [
    {
     "data": {
      "text/plain": [
       "dropmissing (generic function with 2 methods)"
      ]
     },
     "execution_count": 26,
     "metadata": {},
     "output_type": "execute_result"
    }
   ],
   "source": [
    "\"\"\"drop all rows of a data frame with a missing entry in column named s\"\"\"\n",
    "function dropmissing(df::DataFrame, s::Symbol)\n",
    "    return df[.!ismissing.(df[:,s]),:]\n",
    "end\n",
    "function dropmissing(df::DataFrame, ss::Symbol...)\n",
    "    keep_rows = fill(true, size(df,1))\n",
    "    for s in ss\n",
    "        keep_rows = keep_rows .& .!ismissing.(df[:,s])\n",
    "    end\n",
    "    return df[keep_rows,:]\n",
    "end"
   ]
  },
  {
   "cell_type": "code",
   "execution_count": 27,
   "metadata": {},
   "outputs": [
    {
     "ename": "LoadError",
     "evalue": "ArgumentError: column name :COSTGAS not found in the data frame",
     "output_type": "error",
     "traceback": [
      "ArgumentError: column name :COSTGAS not found in the data frame",
      "",
      "Stacktrace:",
      " [1] lookupname at /Users/eoin/.julia/packages/DataFrames/cdZCk/src/other/index.jl:286 [inlined]",
      " [2] getindex at /Users/eoin/.julia/packages/DataFrames/cdZCk/src/other/index.jl:295 [inlined]",
      " [3] getindex(::DataFrame, ::UnitRange{Int64}, ::Symbol) at /Users/eoin/.julia/packages/DataFrames/cdZCk/src/dataframe/dataframe.jl:409",
      " [4] top-level scope at In[27]:1",
      " [5] include_string(::Function, ::Module, ::String, ::String) at ./loading.jl:1091"
     ]
    }
   ],
   "source": [
    "(acs[1:10,:])[.!ismissing.(acs[1:10, :COSTGAS]), :]"
   ]
  },
  {
   "cell_type": "code",
   "execution_count": 28,
   "metadata": {},
   "outputs": [
    {
     "ename": "LoadError",
     "evalue": "ArgumentError: column name :HHINCOME not found in the data frame",
     "output_type": "error",
     "traceback": [
      "ArgumentError: column name :HHINCOME not found in the data frame",
      "",
      "Stacktrace:",
      " [1] lookupname at /Users/eoin/.julia/packages/DataFrames/cdZCk/src/other/index.jl:286 [inlined]",
      " [2] getindex at /Users/eoin/.julia/packages/DataFrames/cdZCk/src/other/index.jl:295 [inlined]",
      " [3] getindex(::DataFrame, ::Colon, ::Symbol) at /Users/eoin/.julia/packages/DataFrames/cdZCk/src/dataframe/dataframe.jl:421",
      " [4] dropmissing(::DataFrame, ::Symbol) at ./In[26]:3",
      " [5] top-level scope at In[28]:1",
      " [6] include_string(::Function, ::Module, ::String, ::String) at ./loading.jl:1091"
     ]
    }
   ],
   "source": [
    "@df dropmissing(acs, :HHINCOME) histogram(:HHINCOME)"
   ]
  },
  {
   "cell_type": "code",
   "execution_count": 29,
   "metadata": {},
   "outputs": [
    {
     "ename": "LoadError",
     "evalue": "ArgumentError: column name :EDUC not found in the data frame",
     "output_type": "error",
     "traceback": [
      "ArgumentError: column name :EDUC not found in the data frame",
      "",
      "Stacktrace:",
      " [1] lookupname at /Users/eoin/.julia/packages/DataFrames/cdZCk/src/other/index.jl:286 [inlined]",
      " [2] getindex at /Users/eoin/.julia/packages/DataFrames/cdZCk/src/other/index.jl:295 [inlined]",
      " [3] getindex(::DataFrame, ::Colon, ::Symbol) at /Users/eoin/.julia/packages/DataFrames/cdZCk/src/dataframe/dataframe.jl:421",
      " [4] dropmissing(::DataFrame, ::Symbol) at ./In[26]:3",
      " [5] top-level scope at In[29]:1",
      " [6] include_string(::Function, ::Module, ::String, ::String) at ./loading.jl:1091"
     ]
    }
   ],
   "source": [
    "@df dropmissing(acs, :EDUC) histogram(:EDUC)"
   ]
  },
  {
   "cell_type": "markdown",
   "metadata": {},
   "source": [
    "Look at income distribution by :FOODSTMP, :LABFORCE, :OWNERSHP, ..."
   ]
  },
  {
   "cell_type": "code",
   "execution_count": 30,
   "metadata": {},
   "outputs": [
    {
     "ename": "LoadError",
     "evalue": "ArgumentError: column name :LABFORCE not found in the data frame",
     "output_type": "error",
     "traceback": [
      "ArgumentError: column name :LABFORCE not found in the data frame",
      "",
      "Stacktrace:",
      " [1] lookupname at /Users/eoin/.julia/packages/DataFrames/cdZCk/src/other/index.jl:286 [inlined]",
      " [2] getindex at /Users/eoin/.julia/packages/DataFrames/cdZCk/src/other/index.jl:295 [inlined]",
      " [3] getindex(::DataFrame, ::Colon, ::Symbol) at /Users/eoin/.julia/packages/DataFrames/cdZCk/src/dataframe/dataframe.jl:421",
      " [4] dropmissing(::DataFrame, ::Symbol, ::Symbol) at ./In[26]:8",
      " [5] top-level scope at In[30]:1",
      " [6] include_string(::Function, ::Module, ::String, ::String) at ./loading.jl:1091"
     ]
    }
   ],
   "source": [
    "@df dropmissing(acs, :LABFORCE, :HHINCOME) density(:HHINCOME, group=:LABFORCE, label=[\"not working\" \"working\"])"
   ]
  },
  {
   "cell_type": "code",
   "execution_count": 31,
   "metadata": {},
   "outputs": [
    {
     "ename": "LoadError",
     "evalue": "ArgumentError: column name :EDUC not found in the data frame",
     "output_type": "error",
     "traceback": [
      "ArgumentError: column name :EDUC not found in the data frame",
      "",
      "Stacktrace:",
      " [1] lookupname at /Users/eoin/.julia/packages/DataFrames/cdZCk/src/other/index.jl:286 [inlined]",
      " [2] getindex at /Users/eoin/.julia/packages/DataFrames/cdZCk/src/other/index.jl:295 [inlined]",
      " [3] getindex(::DataFrame, ::Colon, ::Symbol) at /Users/eoin/.julia/packages/DataFrames/cdZCk/src/dataframe/dataframe.jl:421",
      " [4] dropmissing(::DataFrame, ::Symbol, ::Symbol) at ./In[26]:8",
      " [5] top-level scope at In[31]:1",
      " [6] include_string(::Function, ::Module, ::String, ::String) at ./loading.jl:1091"
     ]
    }
   ],
   "source": [
    "@df dropmissing(acs, :EDUC, :HHINCOME) boxplot(:EDUC, :HHINCOME)\n",
    "xlabel!(\"Education\")\n",
    "ylabel!(\"Income\")"
   ]
  },
  {
   "cell_type": "code",
   "execution_count": 32,
   "metadata": {},
   "outputs": [
    {
     "ename": "LoadError",
     "evalue": "ArgumentError: column name :EDUC not found in the data frame",
     "output_type": "error",
     "traceback": [
      "ArgumentError: column name :EDUC not found in the data frame",
      "",
      "Stacktrace:",
      " [1] lookupname at /Users/eoin/.julia/packages/DataFrames/cdZCk/src/other/index.jl:286 [inlined]",
      " [2] getindex at /Users/eoin/.julia/packages/DataFrames/cdZCk/src/other/index.jl:295 [inlined]",
      " [3] getindex(::DataFrame, ::Colon, ::Symbol) at /Users/eoin/.julia/packages/DataFrames/cdZCk/src/dataframe/dataframe.jl:421",
      " [4] dropmissing(::DataFrame, ::Symbol, ::Symbol) at ./In[26]:8",
      " [5] top-level scope at In[32]:1",
      " [6] include_string(::Function, ::Module, ::String, ::String) at ./loading.jl:1091"
     ]
    }
   ],
   "source": [
    "@df dropmissing(acs, :EDUC, :HHINCOME) violin(:EDUC, :HHINCOME)\n",
    "xlabel!(\"Education\")\n",
    "ylabel!(\"Income\")"
   ]
  },
  {
   "cell_type": "code",
   "execution_count": 33,
   "metadata": {},
   "outputs": [
    {
     "ename": "LoadError",
     "evalue": "ArgumentError: column name :EDUC not found in the data frame",
     "output_type": "error",
     "traceback": [
      "ArgumentError: column name :EDUC not found in the data frame",
      "",
      "Stacktrace:",
      " [1] lookupname at /Users/eoin/.julia/packages/DataFrames/cdZCk/src/other/index.jl:286 [inlined]",
      " [2] getindex at /Users/eoin/.julia/packages/DataFrames/cdZCk/src/other/index.jl:295 [inlined]",
      " [3] getindex(::DataFrame, ::Colon, ::Symbol) at /Users/eoin/.julia/packages/DataFrames/cdZCk/src/dataframe/dataframe.jl:421",
      " [4] dropmissing(::DataFrame, ::Symbol, ::Symbol) at ./In[26]:8",
      " [5] top-level scope at In[33]:1",
      " [6] include_string(::Function, ::Module, ::String, ::String) at ./loading.jl:1091"
     ]
    }
   ],
   "source": [
    "@df dropmissing(acs, :EDUC, :HHINCOME)[1:500,:] scatter(:EDUC, :HHINCOME)\n",
    "xlabel!(\"Education\")\n",
    "ylabel!(\"Income\")"
   ]
  },
  {
   "cell_type": "code",
   "execution_count": 34,
   "metadata": {},
   "outputs": [
    {
     "ename": "LoadError",
     "evalue": "ArgumentError: column name :EDUC not found in the data frame",
     "output_type": "error",
     "traceback": [
      "ArgumentError: column name :EDUC not found in the data frame",
      "",
      "Stacktrace:",
      " [1] lookupname at /Users/eoin/.julia/packages/DataFrames/cdZCk/src/other/index.jl:286 [inlined]",
      " [2] getindex at /Users/eoin/.julia/packages/DataFrames/cdZCk/src/other/index.jl:295 [inlined]",
      " [3] getindex(::DataFrame, ::Colon, ::Symbol) at /Users/eoin/.julia/packages/DataFrames/cdZCk/src/dataframe/dataframe.jl:421",
      " [4] dropmissing(::DataFrame, ::Symbol, ::Symbol) at ./In[26]:8",
      " [5] top-level scope at In[34]:1",
      " [6] include_string(::Function, ::Module, ::String, ::String) at ./loading.jl:1091"
     ]
    }
   ],
   "source": [
    "@df dropmissing(acs, :EDUC, :HHINCOME) marginalhist(:EDUC, :HHINCOME)\n",
    "xlabel!(\"Education\")\n",
    "ylabel!(\"Income\")"
   ]
  },
  {
   "cell_type": "markdown",
   "metadata": {},
   "source": [
    "# More good plotting tools: \n",
    "\n",
    "* [Plots.jl](https://juliaplots.github.io) in Julia\n",
    "* [StatsPlots.jl](https://github.com/JuliaPlots/StatsPlots.jl) in Julia\n",
    "* [ggplot2](http://ggplot2.org/) in R\n",
    "* [MatPlotLib](http://matplotlib.org/) in Python or Julia\n",
    "* [D3](https://d3js.org/) in JavaScript"
   ]
  },
  {
   "cell_type": "code",
   "execution_count": null,
   "metadata": {},
   "outputs": [],
   "source": []
  }
 ],
 "metadata": {
  "@webio": {
   "lastCommId": null,
   "lastKernelId": null
  },
  "kernelspec": {
   "display_name": "Julia 1.5.1",
   "language": "julia",
   "name": "julia-1.5"
  },
  "language_info": {
   "file_extension": ".jl",
   "mimetype": "application/julia",
   "name": "julia",
   "version": "1.5.1"
  }
 },
 "nbformat": 4,
 "nbformat_minor": 1
}
