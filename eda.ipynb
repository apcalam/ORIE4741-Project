{
 "cells": [
  {
   "cell_type": "markdown",
   "metadata": {},
   "source": [
    "# Exploratory Data Analysis\n",
    "Based on demo from lecture 2."
   ]
  },
  {
   "cell_type": "code",
   "execution_count": 1,
   "metadata": {},
   "outputs": [
    {
     "name": "stderr",
     "output_type": "stream",
     "text": [
      "\u001b[32m\u001b[1m   Updating\u001b[22m\u001b[39m registry at `~/.julia/registries/General`\n",
      "\u001b[32m\u001b[1m  Resolving\u001b[22m\u001b[39m package versions...\n",
      "\u001b[32m\u001b[1mNo Changes\u001b[22m\u001b[39m to `~/.julia/environments/v1.5/Project.toml`\n",
      "\u001b[32m\u001b[1mNo Changes\u001b[22m\u001b[39m to `~/.julia/environments/v1.5/Manifest.toml`\n",
      "\u001b[32m\u001b[1m  Resolving\u001b[22m\u001b[39m package versions...\n",
      "\u001b[32m\u001b[1mNo Changes\u001b[22m\u001b[39m to `~/.julia/environments/v1.5/Project.toml`\n",
      "\u001b[32m\u001b[1mNo Changes\u001b[22m\u001b[39m to `~/.julia/environments/v1.5/Manifest.toml`\n",
      "\u001b[32m\u001b[1m  Resolving\u001b[22m\u001b[39m package versions...\n",
      "\u001b[32m\u001b[1mNo Changes\u001b[22m\u001b[39m to `~/.julia/environments/v1.5/Project.toml`\n",
      "\u001b[32m\u001b[1mNo Changes\u001b[22m\u001b[39m to `~/.julia/environments/v1.5/Manifest.toml`\n",
      "\u001b[32m\u001b[1m  Resolving\u001b[22m\u001b[39m package versions...\n",
      "\u001b[32m\u001b[1mNo Changes\u001b[22m\u001b[39m to `~/.julia/environments/v1.5/Project.toml`\n",
      "\u001b[32m\u001b[1mNo Changes\u001b[22m\u001b[39m to `~/.julia/environments/v1.5/Manifest.toml`\n",
      "\u001b[32m\u001b[1m  Resolving\u001b[22m\u001b[39m package versions...\n",
      "\u001b[32m\u001b[1mNo Changes\u001b[22m\u001b[39m to `~/.julia/environments/v1.5/Project.toml`\n",
      "\u001b[32m\u001b[1mNo Changes\u001b[22m\u001b[39m to `~/.julia/environments/v1.5/Manifest.toml`\n"
     ]
    }
   ],
   "source": [
    "# Install packages\n",
    "using Pkg\n",
    "Pkg.add(\"CSV\")\n",
    "Pkg.add(\"DataFrames\")\n",
    "Pkg.add(\"Plots\")\n",
    "Pkg.add(\"StatsPlots\")\n",
    "Pkg.add(\"PyPlot\")"
   ]
  },
  {
   "cell_type": "code",
   "execution_count": 2,
   "metadata": {},
   "outputs": [
    {
     "name": "stderr",
     "output_type": "stream",
     "text": [
      "┌ Info: Precompiling DataFrames [a93c6f00-e57d-5684-b7b6-d8193f3e46c0]\n",
      "└ @ Base loading.jl:1278\n",
      "┌ Info: Precompiling CSV [336ed68f-0bac-5ca0-87d4-7b16caf5d00b]\n",
      "└ @ Base loading.jl:1278\n"
     ]
    },
    {
     "data": {
      "text/plain": [
       "Plots.PyPlotBackend()"
      ]
     },
     "execution_count": 2,
     "metadata": {},
     "output_type": "execute_result"
    }
   ],
   "source": [
    "# bring packages into main namespace\n",
    "using DataFrames             # Data tables are called \"DataFrames\"\n",
    "using StatsPlots             # load plotting packages \n",
    "using Statistics             # basic statistical functions\n",
    "using CSV                    # tools for working with CSV files\n",
    "# plotly() # good interactive html plotting tool\n",
    "pyplot()   # good plotting tool for saving pdf figures"
   ]
  },
  {
   "cell_type": "markdown",
   "metadata": {},
   "source": [
    "# Load data"
   ]
  },
  {
   "cell_type": "code",
   "execution_count": 7,
   "metadata": {},
   "outputs": [
    {
     "data": {
      "text/html": [
       "<table class=\"data-frame\"><thead><tr><th></th><th>tbl</th><th>Year</th><th>quarter</th><th>citymarketid_1</th><th>citymarketid_2</th><th>city1</th></tr><tr><th></th><th>String</th><th>Int64</th><th>Int64</th><th>Int64</th><th>Int64</th><th>String</th></tr></thead><tbody><p>6 rows × 23 columns (omitted printing of 17 columns)</p><tr><th>1</th><td>Table 1a</td><td>2010</td><td>1</td><td>34614</td><td>33195</td><td>Salt Lake City, UT</td></tr><tr><th>2</th><td>Table 1a</td><td>1998</td><td>4</td><td>30189</td><td>31703</td><td>Colorado Springs, CO</td></tr><tr><th>3</th><td>Table 1a</td><td>1998</td><td>4</td><td>30198</td><td>30852</td><td>Pittsburgh, PA</td></tr><tr><th>4</th><td>Table 1a</td><td>2009</td><td>3</td><td>32211</td><td>32575</td><td>Las Vegas, NV</td></tr><tr><th>5</th><td>Table 1a</td><td>1993</td><td>4</td><td>30255</td><td>30852</td><td>Huntsville, AL</td></tr><tr><th>6</th><td>Table 1a</td><td>2010</td><td>4</td><td>33198</td><td>32575</td><td>Kansas City, MO</td></tr></tbody></table>"
      ],
      "text/latex": [
       "\\begin{tabular}{r|ccccccc}\n",
       "\t& tbl & Year & quarter & citymarketid\\_1 & citymarketid\\_2 & city1 & \\\\\n",
       "\t\\hline\n",
       "\t& String & Int64 & Int64 & Int64 & Int64 & String & \\\\\n",
       "\t\\hline\n",
       "\t1 & Table 1a & 2010 & 1 & 34614 & 33195 & Salt Lake City, UT & $\\dots$ \\\\\n",
       "\t2 & Table 1a & 1998 & 4 & 30189 & 31703 & Colorado Springs, CO & $\\dots$ \\\\\n",
       "\t3 & Table 1a & 1998 & 4 & 30198 & 30852 & Pittsburgh, PA & $\\dots$ \\\\\n",
       "\t4 & Table 1a & 2009 & 3 & 32211 & 32575 & Las Vegas, NV & $\\dots$ \\\\\n",
       "\t5 & Table 1a & 1993 & 4 & 30255 & 30852 & Huntsville, AL & $\\dots$ \\\\\n",
       "\t6 & Table 1a & 2010 & 4 & 33198 & 32575 & Kansas City, MO & $\\dots$ \\\\\n",
       "\\end{tabular}\n"
      ],
      "text/plain": [
       "6×23 DataFrame. Omitted printing of 18 columns\n",
       "│ Row │ tbl      │ Year  │ quarter │ citymarketid_1 │ citymarketid_2 │\n",
       "│     │ \u001b[90mString\u001b[39m   │ \u001b[90mInt64\u001b[39m │ \u001b[90mInt64\u001b[39m   │ \u001b[90mInt64\u001b[39m          │ \u001b[90mInt64\u001b[39m          │\n",
       "├─────┼──────────┼───────┼─────────┼────────────────┼────────────────┤\n",
       "│ 1   │ Table 1a │ 2010  │ 1       │ 34614          │ 33195          │\n",
       "│ 2   │ Table 1a │ 1998  │ 4       │ 30189          │ 31703          │\n",
       "│ 3   │ Table 1a │ 1998  │ 4       │ 30198          │ 30852          │\n",
       "│ 4   │ Table 1a │ 2009  │ 3       │ 32211          │ 32575          │\n",
       "│ 5   │ Table 1a │ 1993  │ 4       │ 30255          │ 30852          │\n",
       "│ 6   │ Table 1a │ 2010  │ 4       │ 33198          │ 32575          │"
      ]
     },
     "execution_count": 7,
     "metadata": {},
     "output_type": "execute_result"
    }
   ],
   "source": [
    "acs = CSV.read(\"Consumer_Airfare_Report__Table_1a_-_All_U.S._Airport_Pair_Markets.csv\", limit=10000) # read 10000 rows from the csv\n",
    "head(acs)"
   ]
  },
  {
   "cell_type": "code",
   "execution_count": 16,
   "metadata": {},
   "outputs": [
    {
     "data": {
      "text/html": [
       "<table class=\"data-frame\"><thead><tr><th></th><th>tbl</th><th>Year</th><th>quarter</th><th>citymarketid_1</th><th>citymarketid_2</th><th>city1</th></tr><tr><th></th><th>String</th><th>Int64</th><th>Int64</th><th>Int64</th><th>Int64</th><th>String</th></tr></thead><tbody><p>213,175 rows × 23 columns (omitted printing of 17 columns)</p><tr><th>1</th><td>Table 1a</td><td>2010</td><td>1</td><td>34614</td><td>33195</td><td>Salt Lake City, UT</td></tr><tr><th>2</th><td>Table 1a</td><td>1998</td><td>4</td><td>30189</td><td>31703</td><td>Colorado Springs, CO</td></tr><tr><th>3</th><td>Table 1a</td><td>1998</td><td>4</td><td>30198</td><td>30852</td><td>Pittsburgh, PA</td></tr><tr><th>4</th><td>Table 1a</td><td>2009</td><td>3</td><td>32211</td><td>32575</td><td>Las Vegas, NV</td></tr><tr><th>5</th><td>Table 1a</td><td>1993</td><td>4</td><td>30255</td><td>30852</td><td>Huntsville, AL</td></tr><tr><th>6</th><td>Table 1a</td><td>2010</td><td>4</td><td>33198</td><td>32575</td><td>Kansas City, MO</td></tr><tr><th>7</th><td>Table 1a</td><td>2007</td><td>2</td><td>30977</td><td>33495</td><td>Chicago, IL</td></tr><tr><th>8</th><td>Table 1a</td><td>2003</td><td>2</td><td>30257</td><td>30977</td><td>Albany, NY</td></tr><tr><th>9</th><td>Table 1a</td><td>2005</td><td>4</td><td>30721</td><td>30792</td><td>Boston, MA (Metropolitan Area)</td></tr><tr><th>10</th><td>Table 1a</td><td>2014</td><td>4</td><td>32467</td><td>34576</td><td>Miami, FL (Metropolitan Area)</td></tr><tr><th>11</th><td>Table 1a</td><td>2001</td><td>1</td><td>30693</td><td>31703</td><td>Nashville, TN</td></tr><tr><th>12</th><td>Table 1a</td><td>1993</td><td>1</td><td>31453</td><td>32457</td><td>Houston, TX</td></tr><tr><th>13</th><td>Table 1a</td><td>1998</td><td>4</td><td>30194</td><td>34570</td><td>Dallas/Fort Worth, TX</td></tr><tr><th>14</th><td>Table 1a</td><td>2002</td><td>1</td><td>30721</td><td>32575</td><td>Boston, MA (Metropolitan Area)</td></tr><tr><th>15</th><td>Table 1a</td><td>2007</td><td>4</td><td>30615</td><td>31453</td><td>El Paso, TX</td></tr><tr><th>16</th><td>Table 1a</td><td>2014</td><td>1</td><td>31703</td><td>35096</td><td>New York City, NY (Metropolitan Area)</td></tr><tr><th>17</th><td>Table 1a</td><td>2014</td><td>1</td><td>30257</td><td>32467</td><td>Albany, NY</td></tr><tr><th>18</th><td>Table 1a</td><td>2002</td><td>1</td><td>31453</td><td>32467</td><td>Houston, TX</td></tr><tr><th>19</th><td>Table 1a</td><td>2010</td><td>1</td><td>31057</td><td>31703</td><td>Charlotte, NC</td></tr><tr><th>20</th><td>Table 1a</td><td>2003</td><td>4</td><td>30721</td><td>30977</td><td>Boston, MA (Metropolitan Area)</td></tr><tr><th>21</th><td>Table 1a</td><td>2003</td><td>2</td><td>31703</td><td>34524</td><td>New York City, NY (Metropolitan Area)</td></tr><tr><th>22</th><td>Table 1a</td><td>2003</td><td>1</td><td>31703</td><td>31123</td><td>New York City, NY (Metropolitan Area)</td></tr><tr><th>23</th><td>Table 1a</td><td>2011</td><td>2</td><td>30994</td><td>30852</td><td>Charleston, SC</td></tr><tr><th>24</th><td>Table 1a</td><td>1999</td><td>2</td><td>30977</td><td>32600</td><td>Chicago, IL</td></tr><tr><th>25</th><td>Table 1a</td><td>2012</td><td>1</td><td>31995</td><td>31703</td><td>Greensboro/High Point, NC</td></tr><tr><th>26</th><td>Table 1a</td><td>2005</td><td>4</td><td>33851</td><td>32457</td><td>Oklahoma City, OK</td></tr><tr><th>27</th><td>Table 1a</td><td>2001</td><td>3</td><td>30977</td><td>32457</td><td>Chicago, IL</td></tr><tr><th>28</th><td>Table 1a</td><td>2013</td><td>2</td><td>30977</td><td>30928</td><td>Chicago, IL</td></tr><tr><th>29</th><td>Table 1a</td><td>2013</td><td>2</td><td>30647</td><td>34492</td><td>Cleveland, OH (Metropolitan Area)</td></tr><tr><th>30</th><td>Table 1a</td><td>1997</td><td>4</td><td>30647</td><td>33570</td><td>Cleveland, OH (Metropolitan Area)</td></tr><tr><th>&vellip;</th><td>&vellip;</td><td>&vellip;</td><td>&vellip;</td><td>&vellip;</td><td>&vellip;</td><td>&vellip;</td></tr></tbody></table>"
      ],
      "text/latex": [
       "\\begin{tabular}{r|ccccccc}\n",
       "\t& tbl & Year & quarter & citymarketid\\_1 & citymarketid\\_2 & city1 & \\\\\n",
       "\t\\hline\n",
       "\t& String & Int64 & Int64 & Int64 & Int64 & String & \\\\\n",
       "\t\\hline\n",
       "\t1 & Table 1a & 2010 & 1 & 34614 & 33195 & Salt Lake City, UT & $\\dots$ \\\\\n",
       "\t2 & Table 1a & 1998 & 4 & 30189 & 31703 & Colorado Springs, CO & $\\dots$ \\\\\n",
       "\t3 & Table 1a & 1998 & 4 & 30198 & 30852 & Pittsburgh, PA & $\\dots$ \\\\\n",
       "\t4 & Table 1a & 2009 & 3 & 32211 & 32575 & Las Vegas, NV & $\\dots$ \\\\\n",
       "\t5 & Table 1a & 1993 & 4 & 30255 & 30852 & Huntsville, AL & $\\dots$ \\\\\n",
       "\t6 & Table 1a & 2010 & 4 & 33198 & 32575 & Kansas City, MO & $\\dots$ \\\\\n",
       "\t7 & Table 1a & 2007 & 2 & 30977 & 33495 & Chicago, IL & $\\dots$ \\\\\n",
       "\t8 & Table 1a & 2003 & 2 & 30257 & 30977 & Albany, NY & $\\dots$ \\\\\n",
       "\t9 & Table 1a & 2005 & 4 & 30721 & 30792 & Boston, MA (Metropolitan Area) & $\\dots$ \\\\\n",
       "\t10 & Table 1a & 2014 & 4 & 32467 & 34576 & Miami, FL (Metropolitan Area) & $\\dots$ \\\\\n",
       "\t11 & Table 1a & 2001 & 1 & 30693 & 31703 & Nashville, TN & $\\dots$ \\\\\n",
       "\t12 & Table 1a & 1993 & 1 & 31453 & 32457 & Houston, TX & $\\dots$ \\\\\n",
       "\t13 & Table 1a & 1998 & 4 & 30194 & 34570 & Dallas/Fort Worth, TX & $\\dots$ \\\\\n",
       "\t14 & Table 1a & 2002 & 1 & 30721 & 32575 & Boston, MA (Metropolitan Area) & $\\dots$ \\\\\n",
       "\t15 & Table 1a & 2007 & 4 & 30615 & 31453 & El Paso, TX & $\\dots$ \\\\\n",
       "\t16 & Table 1a & 2014 & 1 & 31703 & 35096 & New York City, NY (Metropolitan Area) & $\\dots$ \\\\\n",
       "\t17 & Table 1a & 2014 & 1 & 30257 & 32467 & Albany, NY & $\\dots$ \\\\\n",
       "\t18 & Table 1a & 2002 & 1 & 31453 & 32467 & Houston, TX & $\\dots$ \\\\\n",
       "\t19 & Table 1a & 2010 & 1 & 31057 & 31703 & Charlotte, NC & $\\dots$ \\\\\n",
       "\t20 & Table 1a & 2003 & 4 & 30721 & 30977 & Boston, MA (Metropolitan Area) & $\\dots$ \\\\\n",
       "\t21 & Table 1a & 2003 & 2 & 31703 & 34524 & New York City, NY (Metropolitan Area) & $\\dots$ \\\\\n",
       "\t22 & Table 1a & 2003 & 1 & 31703 & 31123 & New York City, NY (Metropolitan Area) & $\\dots$ \\\\\n",
       "\t23 & Table 1a & 2011 & 2 & 30994 & 30852 & Charleston, SC & $\\dots$ \\\\\n",
       "\t24 & Table 1a & 1999 & 2 & 30977 & 32600 & Chicago, IL & $\\dots$ \\\\\n",
       "\t25 & Table 1a & 2012 & 1 & 31995 & 31703 & Greensboro/High Point, NC & $\\dots$ \\\\\n",
       "\t26 & Table 1a & 2005 & 4 & 33851 & 32457 & Oklahoma City, OK & $\\dots$ \\\\\n",
       "\t27 & Table 1a & 2001 & 3 & 30977 & 32457 & Chicago, IL & $\\dots$ \\\\\n",
       "\t28 & Table 1a & 2013 & 2 & 30977 & 30928 & Chicago, IL & $\\dots$ \\\\\n",
       "\t29 & Table 1a & 2013 & 2 & 30647 & 34492 & Cleveland, OH (Metropolitan Area) & $\\dots$ \\\\\n",
       "\t30 & Table 1a & 1997 & 4 & 30647 & 33570 & Cleveland, OH (Metropolitan Area) & $\\dots$ \\\\\n",
       "\t$\\dots$ & $\\dots$ & $\\dots$ & $\\dots$ & $\\dots$ & $\\dots$ & $\\dots$ &  \\\\\n",
       "\\end{tabular}\n"
      ],
      "text/plain": [
       "213175×23 DataFrame. Omitted printing of 18 columns\n",
       "│ Row    │ tbl      │ Year  │ quarter │ citymarketid_1 │ citymarketid_2 │\n",
       "│        │ \u001b[90mString\u001b[39m   │ \u001b[90mInt64\u001b[39m │ \u001b[90mInt64\u001b[39m   │ \u001b[90mInt64\u001b[39m          │ \u001b[90mInt64\u001b[39m          │\n",
       "├────────┼──────────┼───────┼─────────┼────────────────┼────────────────┤\n",
       "│ 1      │ Table 1a │ 2010  │ 1       │ 34614          │ 33195          │\n",
       "│ 2      │ Table 1a │ 1998  │ 4       │ 30189          │ 31703          │\n",
       "│ 3      │ Table 1a │ 1998  │ 4       │ 30198          │ 30852          │\n",
       "│ 4      │ Table 1a │ 2009  │ 3       │ 32211          │ 32575          │\n",
       "│ 5      │ Table 1a │ 1993  │ 4       │ 30255          │ 30852          │\n",
       "│ 6      │ Table 1a │ 2010  │ 4       │ 33198          │ 32575          │\n",
       "│ 7      │ Table 1a │ 2007  │ 2       │ 30977          │ 33495          │\n",
       "│ 8      │ Table 1a │ 2003  │ 2       │ 30257          │ 30977          │\n",
       "│ 9      │ Table 1a │ 2005  │ 4       │ 30721          │ 30792          │\n",
       "│ 10     │ Table 1a │ 2014  │ 4       │ 32467          │ 34576          │\n",
       "⋮\n",
       "│ 213165 │ Table1a  │ 2019  │ 4       │ 35412          │ 31703          │\n",
       "│ 213166 │ Table1a  │ 2019  │ 4       │ 35412          │ 33195          │\n",
       "│ 213167 │ Table1a  │ 2019  │ 4       │ 31504          │ 30852          │\n",
       "│ 213168 │ Table1a  │ 2019  │ 4       │ 31504          │ 30852          │\n",
       "│ 213169 │ Table1a  │ 2019  │ 4       │ 31504          │ 30852          │\n",
       "│ 213170 │ Table1a  │ 2019  │ 4       │ 31834          │ 31703          │\n",
       "│ 213171 │ Table1a  │ 2019  │ 4       │ 31834          │ 31703          │\n",
       "│ 213172 │ Table1a  │ 2019  │ 4       │ 31834          │ 31703          │\n",
       "│ 213173 │ Table1a  │ 2019  │ 4       │ 31834          │ 31703          │\n",
       "│ 213174 │ Table1a  │ 2019  │ 4       │ 31834          │ 31703          │\n",
       "│ 213175 │ Table1a  │ 2019  │ 4       │ 31834          │ 31703          │"
      ]
     },
     "execution_count": 16,
     "metadata": {},
     "output_type": "execute_result"
    }
   ],
   "source": [
    "acs_full = CSV.read(\"Consumer_Airfare_Report__Table_1a_-_All_U.S._Airport_Pair_Markets.csv\") # read 10000 rows from the csv\n",
    "\n"
   ]
  },
  {
   "cell_type": "code",
   "execution_count": 17,
   "metadata": {},
   "outputs": [
    {
     "data": {
      "text/plain": [
       "((213175, 23), (201392, 23))"
      ]
     },
     "execution_count": 17,
     "metadata": {},
     "output_type": "execute_result"
    }
   ],
   "source": [
    "acs_full_complete = acs_full[completecases(acs_full), :]\n",
    "size(acs_full), size(disallowmissing!(acs_full_complete))"
   ]
  },
  {
   "cell_type": "code",
   "execution_count": 18,
   "metadata": {},
   "outputs": [
    {
     "data": {
      "text/plain": [
       "10000-element Array{Float64,1}:\n",
       " 2010.0\n",
       " 1998.75\n",
       " 1998.75\n",
       " 2009.5\n",
       " 1993.75\n",
       " 2010.75\n",
       " 2007.25\n",
       " 2003.25\n",
       " 2005.75\n",
       " 2014.75\n",
       " 2001.0\n",
       " 1993.0\n",
       " 1998.75\n",
       "    ⋮\n",
       " 2001.75\n",
       " 2014.25\n",
       " 1999.5\n",
       " 2002.25\n",
       " 2002.0\n",
       " 2011.25\n",
       " 1994.0\n",
       " 2005.0\n",
       " 2013.5\n",
       " 2014.25\n",
       " 2008.25\n",
       " 1999.25"
      ]
     },
     "execution_count": 18,
     "metadata": {},
     "output_type": "execute_result"
    }
   ],
   "source": [
    "acs[:when] = acs[:Year] .+ ((acs[:quarter] .-1) ./ 4)"
   ]
  },
  {
   "cell_type": "markdown",
   "metadata": {},
   "source": [
    "# Summary statistics"
   ]
  },
  {
   "cell_type": "code",
   "execution_count": 19,
   "metadata": {},
   "outputs": [
    {
     "name": "stdout",
     "output_type": "stream",
     "text": [
      "(10000, 24)\n",
      "DataFrame\n",
      "[\"tbl\", \"Year\", \"quarter\", \"citymarketid_1\", \"citymarketid_2\", \"city1\", \"city2\", \"airportid_1\", \"airportid_2\", \"airport_1\", \"airport_2\", \"nsmiles\", \"passengers\", \"fare\", \"carrier_lg\", \"large_ms\", \"fare_lg\", \"carrier_low\", \"lf_ms\", \"fare_low\", \"Geocoded_City1\", \"Geocoded_City2\", \"tbl1apk\", \"when\"]\n",
      "6×24 DataFrame\n",
      "│ Row │ tbl      │ Year  │ quarter │ citymarketid_1 │ citymarketid_2 │\n",
      "│     │ \u001b[90mString\u001b[39m   │ \u001b[90mInt64\u001b[39m │ \u001b[90mInt64\u001b[39m   │ \u001b[90mInt64\u001b[39m          │ \u001b[90mInt64\u001b[39m          │\n",
      "├─────┼──────────┼───────┼─────────┼────────────────┼────────────────┤\n",
      "│ 1   │ Table 1a │ 2010  │ 1       │ 34614          │ 33195          │\n",
      "│ 2   │ Table 1a │ 1998  │ 4       │ 30189          │ 31703          │\n",
      "│ 3   │ Table 1a │ 1998  │ 4       │ 30198          │ 30852          │\n",
      "│ 4   │ Table 1a │ 2009  │ 3       │ 32211          │ 32575          │\n",
      "│ 5   │ Table 1a │ 1993  │ 4       │ 30255          │ 30852          │\n",
      "│ 6   │ Table 1a │ 2010  │ 4       │ 33198          │ 32575          │\n",
      "\n",
      "│ Row │ city1                │ city2                                 │\n",
      "│     │ \u001b[90mString\u001b[39m               │ \u001b[90mString\u001b[39m                                │\n",
      "├─────┼──────────────────────┼───────────────────────────────────────┤\n",
      "│ 1   │ Salt Lake City, UT   │ Tampa, FL (Metropolitan Area)         │\n",
      "│ 2   │ Colorado Springs, CO │ New York City, NY (Metropolitan Area) │\n",
      "│ 3   │ Pittsburgh, PA       │ Washington, DC (Metropolitan Area)    │\n",
      "│ 4   │ Las Vegas, NV        │ Los Angeles, CA (Metropolitan Area)   │\n",
      "│ 5   │ Huntsville, AL       │ Washington, DC (Metropolitan Area)    │\n",
      "│ 6   │ Kansas City, MO      │ Los Angeles, CA (Metropolitan Area)   │\n",
      "\n",
      "│ Row │ airportid_1 │ airportid_2 │ airport_1 │ airport_2 │ nsmiles │\n",
      "│     │ \u001b[90mInt64\u001b[39m       │ \u001b[90mInt64\u001b[39m       │ \u001b[90mString\u001b[39m    │ \u001b[90mString\u001b[39m    │ \u001b[90mInt64\u001b[39m   │\n",
      "├─────┼─────────────┼─────────────┼───────────┼───────────┼─────────┤\n",
      "│ 1   │ 14869       │ 15304       │ SLC       │ TPA       │ 1887    │\n",
      "│ 2   │ 11109       │ 12197       │ COS       │ HPN       │ 1678    │\n",
      "│ 3   │ 14122       │ 10821       │ PIT       │ BWI       │ 210     │\n",
      "│ 4   │ 12889       │ 14908       │ LAS       │ SNA       │ 236     │\n",
      "│ 5   │ 12217       │ 12264       │ HSV       │ IAD       │ 640     │\n",
      "│ 6   │ 13198       │ 14908       │ MCI       │ SNA       │ 1363    │\n",
      "\n",
      "│ Row │ passengers │ fare    │ carrier_lg │ large_ms │ fare_lg  │ carrier_low │\n",
      "│     │ \u001b[90mInt64\u001b[39m      │ \u001b[90mFloat64\u001b[39m │ \u001b[90mString?\u001b[39m    │ \u001b[90mFloat64?\u001b[39m │ \u001b[90mFloat64?\u001b[39m │ \u001b[90mString?\u001b[39m     │\n",
      "├─────┼────────────┼─────────┼────────────┼──────────┼──────────┼─────────────┤\n",
      "│ 1   │ 200        │ 226.59  │ DL         │ 0.38     │ 247.69   │ US          │\n",
      "│ 2   │ 5          │ 280.39  │ UA         │ 0.73     │ 292.6    │ NW          │\n",
      "│ 3   │ 152        │ 239.12  │ US         │ 0.93     │ 245.7    │ CO          │\n",
      "│ 4   │ 1096       │ 111.74  │ WN         │ 0.58     │ 118.28   │ US          │\n",
      "│ 5   │ 21         │ 242.76  │ DL         │ 0.48     │ 275.5    │ UA          │\n",
      "│ 6   │ 175        │ 201.46  │ WN         │ 0.38     │ 208.53   │ F9          │\n",
      "\n",
      "│ Row │ lf_ms    │ fare_low │ Geocoded_City1                                 │\n",
      "│     │ \u001b[90mFloat64?\u001b[39m │ \u001b[90mFloat64?\u001b[39m │ \u001b[90mString\u001b[39m                                         │\n",
      "├─────┼──────────┼──────────┼────────────────────────────────────────────────┤\n",
      "│ 1   │ 0.2      │ 166.99   │ Salt Lake City, UT\\n(40.758478, -111.888142)   │\n",
      "│ 2   │ 0.24     │ 248.27   │ Colorado Springs, CO\\n(38.835224, -104.819798) │\n",
      "│ 3   │ 0.03     │ 71.3     │ Pittsburgh, PA\\n(40.442169, -79.994945)        │\n",
      "│ 4   │ 0.41     │ 102.75   │ Las Vegas, NV\\n(36.169202, -115.140597)        │\n",
      "│ 5   │ 0.25     │ 197.69   │ Huntsville, AL\\n(34.729538, -86.585283)        │\n",
      "│ 6   │ 0.11     │ 162.07   │ Kansas City, MO\\n(39.099792, -94.578559)       │\n",
      "\n",
      "│ Row │ Geocoded_City2                                                 │\n",
      "│     │ \u001b[90mString\u001b[39m                                                         │\n",
      "├─────┼────────────────────────────────────────────────────────────────┤\n",
      "│ 1   │ Tampa, FL (Metropolitan Area)\\n(37.8606, -78.804199)           │\n",
      "│ 2   │ New York City, NY (Metropolitan Area)\\n(40.123164, -75.333718) │\n",
      "│ 3   │ Washington, DC (Metropolitan Area)\\n(38.892062, -77.019912)    │\n",
      "│ 4   │ Los Angeles, CA (Metropolitan Area)\\n(34.052238, -118.243344)  │\n",
      "│ 5   │ Washington, DC (Metropolitan Area)\\n(38.892062, -77.019912)    │\n",
      "│ 6   │ Los Angeles, CA (Metropolitan Area)\\n(34.052238, -118.243344)  │\n",
      "\n",
      "│ Row │ tbl1apk               │ when    │\n",
      "│     │ \u001b[90mString\u001b[39m                │ \u001b[90mFloat64\u001b[39m │\n",
      "├─────┼───────────────────────┼─────────┤\n",
      "│ 1   │ 201011486915304SLCTPA │ 2010.0  │\n",
      "│ 2   │ 199841110912197COSHPN │ 1998.75 │\n",
      "│ 3   │ 199841412210821PITBWI │ 1998.75 │\n",
      "│ 4   │ 200931288914908LASSNA │ 2009.5  │\n",
      "│ 5   │ 199341221712264HSVIAD │ 1993.75 │\n",
      "│ 6   │ 201041319814908MCISNA │ 2010.75 │"
     ]
    }
   ],
   "source": [
    "println(size(acs))\n",
    "println(typeof(acs))\n",
    "println(names(acs));\n",
    "showall(head(acs))"
   ]
  },
  {
   "cell_type": "code",
   "execution_count": 20,
   "metadata": {},
   "outputs": [
    {
     "name": "stdout",
     "output_type": "stream",
     "text": [
      "airport_to_id = Dict{Any,Any}(\"MGM\" => 13277,\"DET\" => 11295,\"FAT\" => 11638,\"DAY\" => 11267,\"PIT\" => 14122,\"MAF\" => 13158,\"HSV\" => 12217,\"STL\" => 15016,\"PSP\" => 14262,\"BMI\" => 10685,\"SMF\" => 14893,\"SDF\" => 14730,\"PBI\" => 14027,\"OMA\" => 13871,\"ABE\" => 10135,\"TPA\" => 15304,\"DFW\" => 11298,\"GSO\" => 11995,\"SAN\" => 14679,\"IAH\" => 12266,\"MHT\" => 13296,\"CHI\" => 10986,\"DEN\" => 11292,\"IAD\" => 12264,\"RNO\" => 14570,\"FLL\" => 11697,\"SWF\" => 15070,\"BTR\" => 10781,\"MYR\" => 13577,\"ACY\" => 10158,\"BGR\" => 10581,\"CID\" => 11003,\"MBS\" => 13184,\"OAK\" => 13796,\"PNS\" => 14193,\"GPT\" => 11973,\"LGA\" => 12953,\"TYS\" => 15412,\"CMH\" => 11066,\"BOI\" => 10713,\"ECP\" => 11481,\"CHS\" => 10994,\"PHF\" => 14098,\"ELP\" => 11540,\"ISP\" => 12391,\"DTW\" => 11433,\"FNT\" => 11721,\"BUF\" => 10792,\"ALB\" => 10257,\"EYW\" => 11624,\"ASE\" => 10372,\"FYV\" => 11834,\"AVL\" => 10431,\"BWI\" => 10821,\"JFK\" => 12478,\"SRQ\" => 14986,\"BNA\" => 10693,\"MKE\" => 13342,\"GRR\" => 11986,\"DAL\" => 11259,\"CLT\" => 11057,\"GSP\" => 11996,\"SAT\" => 14683,\"SLC\" => 14869,\"AZA\" => 10466,\"BLI\" => 10666,\"HPN\" => 12197,\"HRL\" => 12206,\"ONT\" => 13891,\"SBN\" => 14696,\"SEA\" => 14747,\"STS\" => 15023,\"MKC\" => 13341,\"AUS\" => 16440,\"JAN\" => 12448,\"MCI\" => 13198,\"DAB\" => 11252,\"JAC\" => 12441,\"MSY\" => 13495,\"MSN\" => 13485,\"RIC\" => 14524,\"PHL\" => 14100,\"BTV\" => 10785,\"ICT\" => 12278,\"CRP\" => 11140,\"ROA\" => 14574,\"FTW\" => 11789,\"SBA\" => 14689,\"ROC\" => 14576,\"CGX\" => 10977,\"LEX\" => 12945,\"MFR\" => 13264,\"MEM\" => 13244,\"TUS\" => 15376,\"HOU\" => 12191,\"CLE\" => 11042,\"PDX\" => 14057,\"PIE\" => 14112,\"XNA\" => 15919,\"MDT\" => 13230,\"OKC\" => 13851,\"MSP\" => 13487,\"BUR\" => 10800,\"COS\" => 11109,\"IND\" => 12339,\"PVD\" => 14307,\"MSO\" => 13486,\"EWR\" => 11618,\"LIT\" => 12992,\"MDW\" => 13232,\"MRY\" => 13476,\"PBG\" => 14025,\"RSW\" => 14635,\"CAK\" => 10874,\"ATL\" => 10397,\"BOS\" => 10721,\"MLB\" => 13360,\"ILM\" => 12323,\"DSM\" => 11423,\"JAX\" => 12451,\"PWM\" => 14321,\"SFO\" => 14771,\"SYR\" => 15096,\"CAE\" => 10868,\"EUG\" => 11603,\"SNA\" => 14908,\"MCO\" => 13204,\"AMA\" => 10279,\"VPS\" => 15624,\"CVG\" => 11193,\"TOL\" => 15295,\"HDN\" => 12094,\"SPI\" => 14952,\"PIA\" => 14108,\"MFE\" => 13256,\"SAC\" => 14672,\"GEG\" => 11884,\"AIY\" => 10227,\"ABQ\" => 10140,\"ORD\" => 13930,\"MIA\" => 13303,\"SJC\" => 14831,\"TUL\" => 15370,\"LAS\" => 12889,\"LAX\" => 12892,\"RDU\" => 14492,\"EFD\" => 11495,\"BHM\" => 10599,\"DTT\" => 11432,\"MVY\" => 13541,\"EGE\" => 11503,\"DCA\" => 11278,\"FAR\" => 11637,\"FSD\" => 11775,\"PHX\" => 14107,\"SGF\" => 14783,\"LBB\" => 12896,\"LGB\" => 12954,\"ORF\" => 13931,\"TLH\" => 15249,\"WAS\" => 15715,\"BZN\" => 10849,\"BDL\" => 10529,\"ORL\" => 13936,\"NYC\" => 13784,\"TSS\" => 15346,\"PSC\" => 14252,\"SAV\" => 14685,\"ACK\" => 10154)\n"
     ]
    },
    {
     "data": {
      "text/plain": [
       "Dict{Any,Any} with 169 entries:\n",
       "  \"MGM\" => 13277\n",
       "  \"DET\" => 11295\n",
       "  \"FAT\" => 11638\n",
       "  \"DAY\" => 11267\n",
       "  \"PIT\" => 14122\n",
       "  \"MAF\" => 13158\n",
       "  \"HSV\" => 12217\n",
       "  \"STL\" => 15016\n",
       "  \"PSP\" => 14262\n",
       "  \"BMI\" => 10685\n",
       "  \"SMF\" => 14893\n",
       "  \"SDF\" => 14730\n",
       "  \"PBI\" => 14027\n",
       "  \"OMA\" => 13871\n",
       "  \"ABE\" => 10135\n",
       "  \"TPA\" => 15304\n",
       "  \"DFW\" => 11298\n",
       "  \"GSO\" => 11995\n",
       "  \"SAN\" => 14679\n",
       "  \"IAH\" => 12266\n",
       "  \"MHT\" => 13296\n",
       "  \"CHI\" => 10986\n",
       "  \"DEN\" => 11292\n",
       "  \"IAD\" => 12264\n",
       "  \"RNO\" => 14570\n",
       "  ⋮     => ⋮"
      ]
     },
     "execution_count": 20,
     "metadata": {},
     "output_type": "execute_result"
    }
   ],
   "source": [
    "# Build Airport -> Airport_ID dict\n",
    "airport_to_id = Dict()\n",
    "for i = 1:size(acs,1)\n",
    "    row = acs[i,:]\n",
    "    if ! haskey(airport_to_id, row[:airport_1])\n",
    "        airport_to_id[row[:airport_1]] = row[:airportid_1]\n",
    "    end\n",
    "    if ! haskey(airport_to_id, row[:airport_2])\n",
    "        airport_to_id[row[:airport_2]] = row[:airportid_2]\n",
    "    end\n",
    "end\n",
    "@show airport_to_id"
   ]
  },
  {
   "cell_type": "code",
   "execution_count": 21,
   "metadata": {},
   "outputs": [
    {
     "name": "stdout",
     "output_type": "stream",
     "text": [
      "Overall average fare (mean, median, std)\n",
      "211.86353599999998\n",
      "201.79500000000002\n",
      "81.644620365338\n",
      "\n",
      "Average fare for the lowest carrier (mean, median, std)\n",
      "184.37751462578174\n",
      "173.655\n",
      "72.31389090354106\n",
      "\n",
      "Average fare for the carrier with the largest market share (mean, median, std)\n",
      "211.9524926893214\n",
      "200.37\n",
      "84.92627440626435\n"
     ]
    }
   ],
   "source": [
    "fare = acs[:fare]; # Overall average fare\n",
    "println(\"Overall average fare (mean, median, std)\")\n",
    "println(mean(fare))\n",
    "println(median(fare))\n",
    "println(std(fare))\n",
    "\n",
    "fare_low = acs[:fare_low]; # Average fare for the lowest carrier\n",
    "fare_low = fare_low[.!ismissing.(fare_low)]\n",
    "println(\"\\nAverage fare for the lowest carrier (mean, median, std)\")\n",
    "println(mean(fare_low))\n",
    "println(median(fare_low))\n",
    "println(std(fare_low))\n",
    "\n",
    "fare_lg = acs[:fare_lg]; # Average fare for the carrier with the largest market share\n",
    "fare_lg = fare_lg[.!ismissing.(fare_lg)]\n",
    "println(\"\\nAverage fare for the carrier with the largest market share (mean, median, std)\")\n",
    "println(mean(fare_lg))\n",
    "println(median(fare_lg))\n",
    "println(std(fare_lg))"
   ]
  },
  {
   "cell_type": "code",
   "execution_count": 22,
   "metadata": {},
   "outputs": [
    {
     "data": {
      "text/html": [
       "<table class=\"data-frame\"><thead><tr><th></th><th>tbl</th><th>Year</th><th>quarter</th><th>citymarketid_1</th><th>citymarketid_2</th><th>city1</th></tr><tr><th></th><th>String</th><th>Int64</th><th>Int64</th><th>Int64</th><th>Int64</th><th>String</th></tr></thead><tbody><p>92 rows × 24 columns (omitted printing of 18 columns)</p><tr><th>1</th><td>Table 1a</td><td>2001</td><td>3</td><td>31703</td><td>32457</td><td>New York City, NY (Metropolitan Area)</td></tr><tr><th>2</th><td>Table 1a</td><td>2001</td><td>4</td><td>31703</td><td>32457</td><td>New York City, NY (Metropolitan Area)</td></tr><tr><th>3</th><td>Table 1a</td><td>2013</td><td>2</td><td>31703</td><td>32457</td><td>New York City, NY (Metropolitan Area)</td></tr><tr><th>4</th><td>Table 1a</td><td>2003</td><td>2</td><td>31703</td><td>32457</td><td>New York City, NY (Metropolitan Area)</td></tr><tr><th>5</th><td>Table 1a</td><td>1997</td><td>4</td><td>31703</td><td>32457</td><td>New York City, NY (Metropolitan Area)</td></tr><tr><th>6</th><td>Table 1a</td><td>1996</td><td>3</td><td>31703</td><td>32457</td><td>New York City, NY (Metropolitan Area)</td></tr><tr><th>7</th><td>Table 1a</td><td>1997</td><td>4</td><td>31703</td><td>32457</td><td>New York City, NY (Metropolitan Area)</td></tr><tr><th>8</th><td>Table 1a</td><td>2000</td><td>2</td><td>31703</td><td>32457</td><td>New York City, NY (Metropolitan Area)</td></tr><tr><th>9</th><td>Table 1a</td><td>2009</td><td>4</td><td>31703</td><td>32457</td><td>New York City, NY (Metropolitan Area)</td></tr><tr><th>10</th><td>Table 1a</td><td>2003</td><td>1</td><td>31703</td><td>32457</td><td>New York City, NY (Metropolitan Area)</td></tr><tr><th>11</th><td>Table 1a</td><td>1993</td><td>1</td><td>31703</td><td>32457</td><td>New York City, NY (Metropolitan Area)</td></tr><tr><th>12</th><td>Table 1a</td><td>1998</td><td>2</td><td>31703</td><td>32457</td><td>New York City, NY (Metropolitan Area)</td></tr><tr><th>13</th><td>Table 1a</td><td>2014</td><td>4</td><td>31703</td><td>32457</td><td>New York City, NY (Metropolitan Area)</td></tr><tr><th>14</th><td>Table 1a</td><td>2002</td><td>1</td><td>31703</td><td>32457</td><td>New York City, NY (Metropolitan Area)</td></tr><tr><th>15</th><td>Table 1a</td><td>2000</td><td>4</td><td>31703</td><td>32457</td><td>New York City, NY (Metropolitan Area)</td></tr><tr><th>16</th><td>Table 1a</td><td>2005</td><td>1</td><td>31703</td><td>32457</td><td>New York City, NY (Metropolitan Area)</td></tr><tr><th>17</th><td>Table 1a</td><td>2003</td><td>2</td><td>31703</td><td>32457</td><td>New York City, NY (Metropolitan Area)</td></tr><tr><th>18</th><td>Table 1a</td><td>2007</td><td>1</td><td>31703</td><td>32457</td><td>New York City, NY (Metropolitan Area)</td></tr><tr><th>19</th><td>Table 1a</td><td>2000</td><td>4</td><td>31703</td><td>32457</td><td>New York City, NY (Metropolitan Area)</td></tr><tr><th>20</th><td>Table 1a</td><td>2006</td><td>3</td><td>31703</td><td>32457</td><td>New York City, NY (Metropolitan Area)</td></tr><tr><th>21</th><td>Table 1a</td><td>1999</td><td>2</td><td>31703</td><td>32457</td><td>New York City, NY (Metropolitan Area)</td></tr><tr><th>22</th><td>Table 1a</td><td>2010</td><td>4</td><td>31703</td><td>32457</td><td>New York City, NY (Metropolitan Area)</td></tr><tr><th>23</th><td>Table 1a</td><td>2004</td><td>2</td><td>31703</td><td>32457</td><td>New York City, NY (Metropolitan Area)</td></tr><tr><th>24</th><td>Table 1a</td><td>2010</td><td>1</td><td>31703</td><td>32457</td><td>New York City, NY (Metropolitan Area)</td></tr><tr><th>25</th><td>Table 1a</td><td>2007</td><td>1</td><td>31703</td><td>32457</td><td>New York City, NY (Metropolitan Area)</td></tr><tr><th>26</th><td>Table 1a</td><td>2013</td><td>4</td><td>31703</td><td>32457</td><td>New York City, NY (Metropolitan Area)</td></tr><tr><th>27</th><td>Table 1a</td><td>2003</td><td>2</td><td>31703</td><td>32457</td><td>New York City, NY (Metropolitan Area)</td></tr><tr><th>28</th><td>Table 1a</td><td>2003</td><td>4</td><td>31703</td><td>32457</td><td>New York City, NY (Metropolitan Area)</td></tr><tr><th>29</th><td>Table 1a</td><td>2006</td><td>2</td><td>31703</td><td>32457</td><td>New York City, NY (Metropolitan Area)</td></tr><tr><th>30</th><td>Table 1a</td><td>2007</td><td>2</td><td>31703</td><td>32457</td><td>New York City, NY (Metropolitan Area)</td></tr><tr><th>&vellip;</th><td>&vellip;</td><td>&vellip;</td><td>&vellip;</td><td>&vellip;</td><td>&vellip;</td><td>&vellip;</td></tr></tbody></table>"
      ],
      "text/latex": [
       "\\begin{tabular}{r|ccccccc}\n",
       "\t& tbl & Year & quarter & citymarketid\\_1 & citymarketid\\_2 & city1 & \\\\\n",
       "\t\\hline\n",
       "\t& String & Int64 & Int64 & Int64 & Int64 & String & \\\\\n",
       "\t\\hline\n",
       "\t1 & Table 1a & 2001 & 3 & 31703 & 32457 & New York City, NY (Metropolitan Area) & $\\dots$ \\\\\n",
       "\t2 & Table 1a & 2001 & 4 & 31703 & 32457 & New York City, NY (Metropolitan Area) & $\\dots$ \\\\\n",
       "\t3 & Table 1a & 2013 & 2 & 31703 & 32457 & New York City, NY (Metropolitan Area) & $\\dots$ \\\\\n",
       "\t4 & Table 1a & 2003 & 2 & 31703 & 32457 & New York City, NY (Metropolitan Area) & $\\dots$ \\\\\n",
       "\t5 & Table 1a & 1997 & 4 & 31703 & 32457 & New York City, NY (Metropolitan Area) & $\\dots$ \\\\\n",
       "\t6 & Table 1a & 1996 & 3 & 31703 & 32457 & New York City, NY (Metropolitan Area) & $\\dots$ \\\\\n",
       "\t7 & Table 1a & 1997 & 4 & 31703 & 32457 & New York City, NY (Metropolitan Area) & $\\dots$ \\\\\n",
       "\t8 & Table 1a & 2000 & 2 & 31703 & 32457 & New York City, NY (Metropolitan Area) & $\\dots$ \\\\\n",
       "\t9 & Table 1a & 2009 & 4 & 31703 & 32457 & New York City, NY (Metropolitan Area) & $\\dots$ \\\\\n",
       "\t10 & Table 1a & 2003 & 1 & 31703 & 32457 & New York City, NY (Metropolitan Area) & $\\dots$ \\\\\n",
       "\t11 & Table 1a & 1993 & 1 & 31703 & 32457 & New York City, NY (Metropolitan Area) & $\\dots$ \\\\\n",
       "\t12 & Table 1a & 1998 & 2 & 31703 & 32457 & New York City, NY (Metropolitan Area) & $\\dots$ \\\\\n",
       "\t13 & Table 1a & 2014 & 4 & 31703 & 32457 & New York City, NY (Metropolitan Area) & $\\dots$ \\\\\n",
       "\t14 & Table 1a & 2002 & 1 & 31703 & 32457 & New York City, NY (Metropolitan Area) & $\\dots$ \\\\\n",
       "\t15 & Table 1a & 2000 & 4 & 31703 & 32457 & New York City, NY (Metropolitan Area) & $\\dots$ \\\\\n",
       "\t16 & Table 1a & 2005 & 1 & 31703 & 32457 & New York City, NY (Metropolitan Area) & $\\dots$ \\\\\n",
       "\t17 & Table 1a & 2003 & 2 & 31703 & 32457 & New York City, NY (Metropolitan Area) & $\\dots$ \\\\\n",
       "\t18 & Table 1a & 2007 & 1 & 31703 & 32457 & New York City, NY (Metropolitan Area) & $\\dots$ \\\\\n",
       "\t19 & Table 1a & 2000 & 4 & 31703 & 32457 & New York City, NY (Metropolitan Area) & $\\dots$ \\\\\n",
       "\t20 & Table 1a & 2006 & 3 & 31703 & 32457 & New York City, NY (Metropolitan Area) & $\\dots$ \\\\\n",
       "\t21 & Table 1a & 1999 & 2 & 31703 & 32457 & New York City, NY (Metropolitan Area) & $\\dots$ \\\\\n",
       "\t22 & Table 1a & 2010 & 4 & 31703 & 32457 & New York City, NY (Metropolitan Area) & $\\dots$ \\\\\n",
       "\t23 & Table 1a & 2004 & 2 & 31703 & 32457 & New York City, NY (Metropolitan Area) & $\\dots$ \\\\\n",
       "\t24 & Table 1a & 2010 & 1 & 31703 & 32457 & New York City, NY (Metropolitan Area) & $\\dots$ \\\\\n",
       "\t25 & Table 1a & 2007 & 1 & 31703 & 32457 & New York City, NY (Metropolitan Area) & $\\dots$ \\\\\n",
       "\t26 & Table 1a & 2013 & 4 & 31703 & 32457 & New York City, NY (Metropolitan Area) & $\\dots$ \\\\\n",
       "\t27 & Table 1a & 2003 & 2 & 31703 & 32457 & New York City, NY (Metropolitan Area) & $\\dots$ \\\\\n",
       "\t28 & Table 1a & 2003 & 4 & 31703 & 32457 & New York City, NY (Metropolitan Area) & $\\dots$ \\\\\n",
       "\t29 & Table 1a & 2006 & 2 & 31703 & 32457 & New York City, NY (Metropolitan Area) & $\\dots$ \\\\\n",
       "\t30 & Table 1a & 2007 & 2 & 31703 & 32457 & New York City, NY (Metropolitan Area) & $\\dots$ \\\\\n",
       "\t$\\dots$ & $\\dots$ & $\\dots$ & $\\dots$ & $\\dots$ & $\\dots$ & $\\dots$ &  \\\\\n",
       "\\end{tabular}\n"
      ],
      "text/plain": [
       "92×24 DataFrame. Omitted printing of 19 columns\n",
       "│ Row │ tbl      │ Year  │ quarter │ citymarketid_1 │ citymarketid_2 │\n",
       "│     │ \u001b[90mString\u001b[39m   │ \u001b[90mInt64\u001b[39m │ \u001b[90mInt64\u001b[39m   │ \u001b[90mInt64\u001b[39m          │ \u001b[90mInt64\u001b[39m          │\n",
       "├─────┼──────────┼───────┼─────────┼────────────────┼────────────────┤\n",
       "│ 1   │ Table 1a │ 2001  │ 3       │ 31703          │ 32457          │\n",
       "│ 2   │ Table 1a │ 2001  │ 4       │ 31703          │ 32457          │\n",
       "│ 3   │ Table 1a │ 2013  │ 2       │ 31703          │ 32457          │\n",
       "│ 4   │ Table 1a │ 2003  │ 2       │ 31703          │ 32457          │\n",
       "│ 5   │ Table 1a │ 1997  │ 4       │ 31703          │ 32457          │\n",
       "│ 6   │ Table 1a │ 1996  │ 3       │ 31703          │ 32457          │\n",
       "│ 7   │ Table 1a │ 1997  │ 4       │ 31703          │ 32457          │\n",
       "│ 8   │ Table 1a │ 2000  │ 2       │ 31703          │ 32457          │\n",
       "│ 9   │ Table 1a │ 2009  │ 4       │ 31703          │ 32457          │\n",
       "│ 10  │ Table 1a │ 2003  │ 1       │ 31703          │ 32457          │\n",
       "⋮\n",
       "│ 82  │ Table 1a │ 2012  │ 4       │ 31703          │ 32457          │\n",
       "│ 83  │ Table 1a │ 2002  │ 4       │ 31703          │ 32457          │\n",
       "│ 84  │ Table 1a │ 2010  │ 2       │ 31703          │ 32457          │\n",
       "│ 85  │ Table 1a │ 2005  │ 2       │ 31703          │ 32457          │\n",
       "│ 86  │ Table 1a │ 2001  │ 1       │ 31703          │ 32457          │\n",
       "│ 87  │ Table 1a │ 2009  │ 1       │ 31703          │ 32457          │\n",
       "│ 88  │ Table 1a │ 2007  │ 4       │ 31703          │ 32457          │\n",
       "│ 89  │ Table 1a │ 2002  │ 1       │ 31703          │ 32457          │\n",
       "│ 90  │ Table 1a │ 2000  │ 1       │ 31703          │ 32457          │\n",
       "│ 91  │ Table 1a │ 1997  │ 3       │ 31703          │ 32457          │\n",
       "│ 92  │ Table 1a │ 2014  │ 4       │ 31703          │ 32457          │"
      ]
     },
     "execution_count": 22,
     "metadata": {},
     "output_type": "execute_result"
    }
   ],
   "source": [
    "nyc_id = 31703\n",
    "sf_id = 32457\n",
    "\n",
    "from_nyc_idxs = acs[:citymarketid_1].== nyc_id\n",
    "to_sf_idxs = acs[:citymarketid_2].== sf_id\n",
    "trip_idxs = from_nyc_idxs .& to_sf_idxs\n",
    "\n",
    "nyc_to_sf = acs[trip_idxs,:]"
   ]
  },
  {
   "cell_type": "markdown",
   "metadata": {},
   "source": [
    "# Plotting"
   ]
  },
  {
   "cell_type": "code",
   "execution_count": 23,
   "metadata": {},
   "outputs": [
    {
     "data": {
      "text/plain": [
       "plotdata (generic function with 1 method)"
      ]
     },
     "execution_count": 23,
     "metadata": {},
     "output_type": "execute_result"
    }
   ],
   "source": [
    "function plotdata(x,y; xlab=\"x\", ylab=\"y\", margin=.05)\n",
    "    scatter(x,y, label=\"data\", legend=:topleft)\n",
    "    xlabel!(xlab)\n",
    "    ylabel!(ylab)\n",
    "    range_y = maximum(y) - minimum(y)\n",
    "    range_x = maximum(x) - minimum(x)\n",
    "    ylims!((minimum(y)-margin*range_y,maximum(y)+margin*range_y))\n",
    "    xlims!((minimum(x)-margin*range_x,maximum(x)+margin*range_x))\n",
    "end"
   ]
  },
  {
   "cell_type": "code",
   "execution_count": 24,
   "metadata": {
    "scrolled": false
   },
   "outputs": [
    {
     "data": {
      "image/png": "[encoded data removed]"
     },
     "execution_count": 24,
     "metadata": {},
     "output_type": "execute_result"
    }
   ],
   "source": [
    "plotdata(nyc_to_sf[:when], nyc_to_sf[:fare], xlab=\"When\", ylab=\"Average Fare from NYC to SF\")"
   ]
  },
  {
   "cell_type": "code",
   "execution_count": 25,
   "metadata": {},
   "outputs": [
    {
     "data": {
      "image/png": "[encoded data removed]"
     },
     "execution_count": 25,
     "metadata": {},
     "output_type": "execute_result"
    }
   ],
   "source": [
    "plotdata(nyc_to_sf[:when], nyc_to_sf[:fare_lg], xlab=\"When\", ylab=\"Fare_lg from NYC to SF\")"
   ]
  },
  {
   "cell_type": "code",
   "execution_count": 26,
   "metadata": {},
   "outputs": [
    {
     "data": {
      "image/png": "[encoded data removed]"
     },
     "execution_count": 26,
     "metadata": {},
     "output_type": "execute_result"
    }
   ],
   "source": [
    "plotdata(nyc_to_sf[:when], nyc_to_sf[:large_ms], xlab=\"When\", ylab=\"Largest market share on flights from NYC to SF\")"
   ]
  },
  {
   "cell_type": "code",
   "execution_count": 27,
   "metadata": {},
   "outputs": [
    {
     "data": {
      "image/png": "[encoded data removed]"
     },
     "execution_count": 27,
     "metadata": {},
     "output_type": "execute_result"
    }
   ],
   "source": [
    "plotdata(nyc_to_sf[:when], nyc_to_sf[:fare_low], xlab=\"When\", ylab=\"Fare_low from NYC to SF\")"
   ]
  },
  {
   "cell_type": "markdown",
   "metadata": {},
   "source": [
    "# Modeling\n"
   ]
  },
  {
   "cell_type": "code",
   "execution_count": 28,
   "metadata": {},
   "outputs": [
    {
     "name": "stdout",
     "output_type": "stream",
     "text": [
      "train_error = 80.47499991670672\n",
      "test_error = 78.18467039977804\n"
     ]
    }
   ],
   "source": [
    "# Split the data into train and test\n",
    "test_frac = .2\n",
    "n = size(acs,1)\n",
    "n_te = Int(round(n*test_frac))\n",
    "n_tr = n - n_te\n",
    "idxs = rand(1:n,n)\n",
    "\n",
    "train = acs[idxs[1:n_tr],:]\n",
    "test = acs[idxs[n_tr+1:n],:]\n",
    "@assert size(acs,1) == size(train,1) + size(test,1)\n",
    "\n",
    "# Learn from the train set\n",
    "function get_Xy(dataset)\n",
    "    X = [dataset[:when] dataset[:airportid_1] dataset[:airportid_2] ones(size(dataset,1))]\n",
    "    y = dataset[:fare]\n",
    "    return X,y\n",
    "end\n",
    "X_tr, y_tr = get_Xy(train)\n",
    "X_te, y_te = get_Xy(test)\n",
    "\n",
    "w = X_tr \\ y_tr\n",
    "\n",
    "# Look at the MSE\n",
    "train_error = sqrt(mean((y_tr - X_tr*w).^2))\n",
    "@show train_error\n",
    "\n",
    "test_error = sqrt(mean((y_te - X_te*w).^2))\n",
    "@show test_error;"
   ]
  },
  {
   "cell_type": "markdown",
   "metadata": {},
   "source": [
    "# Below this line is not relevant\n",
    "\n",
    "I copied this notebook from the eda class demo to get started, leaving the code for now because it may be relevant laty"
   ]
  },
  {
   "cell_type": "code",
   "execution_count": 15,
   "metadata": {},
   "outputs": [
    {
     "ename": "LoadError",
     "evalue": "ArgumentError: column name :HHINCOME not found in the data frame",
     "output_type": "error",
     "traceback": [
      "ArgumentError: column name :HHINCOME not found in the data frame",
      "",
      "Stacktrace:",
      " [1] lookupname at /Users/eoin/.julia/packages/DataFrames/cdZCk/src/other/index.jl:286 [inlined]",
      " [2] getindex at /Users/eoin/.julia/packages/DataFrames/cdZCk/src/other/index.jl:295 [inlined]",
      " [3] getindex(::DataFrame, ::typeof(!), ::Symbol) at /Users/eoin/.julia/packages/DataFrames/cdZCk/src/dataframe/dataframe.jl:435",
      " [4] getindex(::DataFrame, ::Symbol) at ./deprecated.jl:72",
      " [5] top-level scope at In[15]:1",
      " [6] include_string(::Function, ::Module, ::String, ::String) at ./loading.jl:1091"
     ]
    }
   ],
   "source": [
    "histogram(acs[:HHINCOME], label=\"income\")\n",
    "xlabel!(\"Income\")"
   ]
  },
  {
   "cell_type": "markdown",
   "metadata": {},
   "source": [
    "**Poll**: Is this plausible for US income distribution?\n",
    "* A) No, not plausible\n",
    "* B) Yes, plausible"
   ]
  },
  {
   "cell_type": "code",
   "execution_count": 16,
   "metadata": {},
   "outputs": [
    {
     "ename": "LoadError",
     "evalue": "ArgumentError: column name :HHINCOME not found in the data frame",
     "output_type": "error",
     "traceback": [
      "ArgumentError: column name :HHINCOME not found in the data frame",
      "",
      "Stacktrace:",
      " [1] lookupname at /Users/eoin/.julia/packages/DataFrames/cdZCk/src/other/index.jl:286 [inlined]",
      " [2] getindex at /Users/eoin/.julia/packages/DataFrames/cdZCk/src/other/index.jl:295 [inlined]",
      " [3] getindex(::DataFrame, ::typeof(!), ::Symbol) at /Users/eoin/.julia/packages/DataFrames/cdZCk/src/dataframe/dataframe.jl:435",
      " [4] getindex(::DataFrame, ::Symbol) at ./deprecated.jl:72",
      " [5] top-level scope at In[16]:1",
      " [6] include_string(::Function, ::Module, ::String, ::String) at ./loading.jl:1091"
     ]
    }
   ],
   "source": [
    "rows_with_99percent_income = acs[:HHINCOME].<4e6\n",
    "acs99 = acs[rows_with_99percent_income,:];"
   ]
  },
  {
   "cell_type": "code",
   "execution_count": 17,
   "metadata": {},
   "outputs": [
    {
     "ename": "LoadError",
     "evalue": "UndefVarError: acs99 not defined",
     "output_type": "error",
     "traceback": [
      "UndefVarError: acs99 not defined",
      "",
      "Stacktrace:",
      " [1] top-level scope at In[17]:1",
      " [2] include_string(::Function, ::Module, ::String, ::String) at ./loading.jl:1091"
     ]
    }
   ],
   "source": [
    "head(acs99)"
   ]
  },
  {
   "cell_type": "code",
   "execution_count": 18,
   "metadata": {},
   "outputs": [
    {
     "ename": "LoadError",
     "evalue": "UndefVarError: acs99 not defined",
     "output_type": "error",
     "traceback": [
      "UndefVarError: acs99 not defined",
      "",
      "Stacktrace:",
      " [1] top-level scope at In[18]:1",
      " [2] include_string(::Function, ::Module, ::String, ::String) at ./loading.jl:1091"
     ]
    }
   ],
   "source": [
    "histogram(acs99[:HHINCOME], label=\"income\")"
   ]
  },
  {
   "cell_type": "code",
   "execution_count": 19,
   "metadata": {},
   "outputs": [
    {
     "ename": "LoadError",
     "evalue": "UndefVarError: acs99 not defined",
     "output_type": "error",
     "traceback": [
      "UndefVarError: acs99 not defined",
      "",
      "Stacktrace:",
      " [1] top-level scope at In[19]:1",
      " [2] include_string(::Function, ::Module, ::String, ::String) at ./loading.jl:1091"
     ]
    }
   ],
   "source": [
    "@df acs99 histogram(:HHINCOME, group=:FOODSTMP, label=[\"no foodstamps\" \"foodstamps\"])"
   ]
  },
  {
   "cell_type": "code",
   "execution_count": 20,
   "metadata": {},
   "outputs": [
    {
     "ename": "LoadError",
     "evalue": "UndefVarError: acs99 not defined",
     "output_type": "error",
     "traceback": [
      "UndefVarError: acs99 not defined",
      "",
      "Stacktrace:",
      " [1] top-level scope at In[20]:1",
      " [2] include_string(::Function, ::Module, ::String, ::String) at ./loading.jl:1091"
     ]
    }
   ],
   "source": [
    "@df acs99 density(:HHINCOME, group=:FOODSTMP, label=[\"no foodstamps\" \"foodstamps\"])"
   ]
  },
  {
   "cell_type": "markdown",
   "metadata": {},
   "source": [
    "# Now with recoded data\n",
    "The truncated version of the cleaned data set is in the demos repo as `acs_2013_cleaned_trunc.csv`."
   ]
  },
  {
   "cell_type": "code",
   "execution_count": 21,
   "metadata": {},
   "outputs": [
    {
     "ename": "LoadError",
     "evalue": "ArgumentError: \"acs_2013_cleaned_trunc.csv\" is not a valid file",
     "output_type": "error",
     "traceback": [
      "ArgumentError: \"acs_2013_cleaned_trunc.csv\" is not a valid file",
      "",
      "Stacktrace:",
      " [1] Header at /Users/eoin/.julia/packages/CSV/MKemC/src/header.jl:92 [inlined]",
      " [2] CSV.File(::String; header::Int64, normalizenames::Bool, datarow::Int64, skipto::Nothing, footerskip::Int64, transpose::Bool, comment::Nothing, use_mmap::Nothing, ignoreemptylines::Bool, select::Nothing, drop::Nothing, missingstrings::Array{String,1}, missingstring::String, delim::Nothing, ignorerepeated::Bool, quotechar::Char, openquotechar::Nothing, closequotechar::Nothing, escapechar::Char, dateformat::Nothing, dateformats::Nothing, decimal::UInt8, truestrings::Array{String,1}, falsestrings::Array{String,1}, type::Nothing, types::Nothing, typemap::Dict{Type,Type}, categorical::Nothing, pool::Float64, lazystrings::Bool, strict::Bool, silencewarnings::Bool, debug::Bool, parsingdebug::Bool, kw::Base.Iterators.Pairs{Symbol,Int64,Tuple{Symbol},NamedTuple{(:limit,),Tuple{Int64}}}) at /Users/eoin/.julia/packages/CSV/MKemC/src/file.jl:216",
      " [3] read(::String, ::Nothing; copycols::Bool, kwargs::Base.Iterators.Pairs{Symbol,Any,Tuple{Symbol,Symbol},NamedTuple{(:limit, :missingstring),Tuple{Int64,String}}}) at /Users/eoin/.julia/packages/CSV/MKemC/src/CSV.jl:44",
      " [4] top-level scope at In[21]:1",
      " [5] include_string(::Function, ::Module, ::String, ::String) at ./loading.jl:1091"
     ]
    }
   ],
   "source": [
    "acs = CSV.read(\"acs_2013_cleaned_trunc.csv\"; limit=10000, missingstring=\"NA\");"
   ]
  },
  {
   "cell_type": "code",
   "execution_count": 22,
   "metadata": {},
   "outputs": [
    {
     "data": {
      "text/html": [
       "<table class=\"data-frame\"><thead><tr><th></th><th>tbl</th><th>Year</th><th>quarter</th><th>citymarketid_1</th><th>citymarketid_2</th><th>city1</th></tr><tr><th></th><th>String</th><th>Int64</th><th>Int64</th><th>Int64</th><th>Int64</th><th>String</th></tr></thead><tbody><p>6 rows × 24 columns (omitted printing of 18 columns)</p><tr><th>1</th><td>Table 1a</td><td>2010</td><td>1</td><td>34614</td><td>33195</td><td>Salt Lake City, UT</td></tr><tr><th>2</th><td>Table 1a</td><td>1998</td><td>4</td><td>30189</td><td>31703</td><td>Colorado Springs, CO</td></tr><tr><th>3</th><td>Table 1a</td><td>1998</td><td>4</td><td>30198</td><td>30852</td><td>Pittsburgh, PA</td></tr><tr><th>4</th><td>Table 1a</td><td>2009</td><td>3</td><td>32211</td><td>32575</td><td>Las Vegas, NV</td></tr><tr><th>5</th><td>Table 1a</td><td>1993</td><td>4</td><td>30255</td><td>30852</td><td>Huntsville, AL</td></tr><tr><th>6</th><td>Table 1a</td><td>2010</td><td>4</td><td>33198</td><td>32575</td><td>Kansas City, MO</td></tr></tbody></table>"
      ],
      "text/latex": [
       "\\begin{tabular}{r|ccccccc}\n",
       "\t& tbl & Year & quarter & citymarketid\\_1 & citymarketid\\_2 & city1 & \\\\\n",
       "\t\\hline\n",
       "\t& String & Int64 & Int64 & Int64 & Int64 & String & \\\\\n",
       "\t\\hline\n",
       "\t1 & Table 1a & 2010 & 1 & 34614 & 33195 & Salt Lake City, UT & $\\dots$ \\\\\n",
       "\t2 & Table 1a & 1998 & 4 & 30189 & 31703 & Colorado Springs, CO & $\\dots$ \\\\\n",
       "\t3 & Table 1a & 1998 & 4 & 30198 & 30852 & Pittsburgh, PA & $\\dots$ \\\\\n",
       "\t4 & Table 1a & 2009 & 3 & 32211 & 32575 & Las Vegas, NV & $\\dots$ \\\\\n",
       "\t5 & Table 1a & 1993 & 4 & 30255 & 30852 & Huntsville, AL & $\\dots$ \\\\\n",
       "\t6 & Table 1a & 2010 & 4 & 33198 & 32575 & Kansas City, MO & $\\dots$ \\\\\n",
       "\\end{tabular}\n"
      ],
      "text/plain": [
       "6×24 DataFrame. Omitted printing of 19 columns\n",
       "│ Row │ tbl      │ Year  │ quarter │ citymarketid_1 │ citymarketid_2 │\n",
       "│     │ \u001b[90mString\u001b[39m   │ \u001b[90mInt64\u001b[39m │ \u001b[90mInt64\u001b[39m   │ \u001b[90mInt64\u001b[39m          │ \u001b[90mInt64\u001b[39m          │\n",
       "├─────┼──────────┼───────┼─────────┼────────────────┼────────────────┤\n",
       "│ 1   │ Table 1a │ 2010  │ 1       │ 34614          │ 33195          │\n",
       "│ 2   │ Table 1a │ 1998  │ 4       │ 30189          │ 31703          │\n",
       "│ 3   │ Table 1a │ 1998  │ 4       │ 30198          │ 30852          │\n",
       "│ 4   │ Table 1a │ 2009  │ 3       │ 32211          │ 32575          │\n",
       "│ 5   │ Table 1a │ 1993  │ 4       │ 30255          │ 30852          │\n",
       "│ 6   │ Table 1a │ 2010  │ 4       │ 33198          │ 32575          │"
      ]
     },
     "execution_count": 22,
     "metadata": {},
     "output_type": "execute_result"
    }
   ],
   "source": [
    "head(acs)"
   ]
  },
  {
   "cell_type": "code",
   "execution_count": 23,
   "metadata": {},
   "outputs": [
    {
     "data": {
      "text/latex": [
       "\\texttt{CSV.read(source, sink::T; kwargs...)} => T\n",
       "\n",
       "Read and parses a delimited file, materializing directly using the \\texttt{sink} function.\n",
       "\n",
       "\\texttt{CSV.read} supports all the same keyword arguments as \\href{@ref}{\\texttt{CSV.File}}.\n",
       "\n"
      ],
      "text/markdown": [
       "`CSV.read(source, sink::T; kwargs...)` => T\n",
       "\n",
       "Read and parses a delimited file, materializing directly using the `sink` function.\n",
       "\n",
       "`CSV.read` supports all the same keyword arguments as [`CSV.File`](@ref).\n"
      ],
      "text/plain": [
       "  \u001b[36mCSV.read(source, sink::T; kwargs...)\u001b[39m => T\n",
       "\n",
       "  Read and parses a delimited file, materializing directly using the \u001b[36msink\u001b[39m\n",
       "  function.\n",
       "\n",
       "  \u001b[36mCSV.read\u001b[39m supports all the same keyword arguments as \u001b[36mCSV.File\u001b[39m."
      ]
     },
     "execution_count": 23,
     "metadata": {},
     "output_type": "execute_result"
    }
   ],
   "source": [
    "?CSV.read"
   ]
  },
  {
   "cell_type": "code",
   "execution_count": 24,
   "metadata": {},
   "outputs": [
    {
     "ename": "LoadError",
     "evalue": "ArgumentError: column name :HHINCOME not found in the data frame",
     "output_type": "error",
     "traceback": [
      "ArgumentError: column name :HHINCOME not found in the data frame",
      "",
      "Stacktrace:",
      " [1] lookupname at /Users/eoin/.julia/packages/DataFrames/cdZCk/src/other/index.jl:286 [inlined]",
      " [2] getindex at /Users/eoin/.julia/packages/DataFrames/cdZCk/src/other/index.jl:295 [inlined]",
      " [3] getindex(::DataFrame, ::typeof(!), ::Symbol) at /Users/eoin/.julia/packages/DataFrames/cdZCk/src/dataframe/dataframe.jl:435",
      " [4] getindex(::DataFrame, ::Symbol) at ./deprecated.jl:72",
      " [5] top-level scope at In[24]:1",
      " [6] include_string(::Function, ::Module, ::String, ::String) at ./loading.jl:1091"
     ]
    }
   ],
   "source": [
    "summary_stats(acs[:HHINCOME])"
   ]
  },
  {
   "cell_type": "markdown",
   "metadata": {},
   "source": [
    "**Poll**: Is mean income computed here plausible for US income distribution?\n",
    "* A) No, this value is too high \n",
    "* B) Plausible\n",
    "* C) No, this value is too low"
   ]
  },
  {
   "cell_type": "code",
   "execution_count": 25,
   "metadata": {},
   "outputs": [
    {
     "ename": "LoadError",
     "evalue": "Cannot convert Symbol to series data for plotting",
     "output_type": "error",
     "traceback": [
      "Cannot convert Symbol to series data for plotting",
      "",
      "Stacktrace:",
      " [1] error(::String) at ./error.jl:33",
      " [2] _prepare_series_data(::Symbol) at /Users/eoin/.julia/packages/RecipesPipeline/tkFmN/src/series.jl:8",
      " [3] _series_data_vector(::Symbol, ::Dict{Symbol,Any}) at /Users/eoin/.julia/packages/RecipesPipeline/tkFmN/src/series.jl:27",
      " [4] macro expansion at /Users/eoin/.julia/packages/RecipesPipeline/tkFmN/src/series.jl:139 [inlined]",
      " [5] apply_recipe(::Dict{Symbol,Any}, ::Type{RecipesPipeline.SliceIt}, ::Nothing, ::Symbol, ::Nothing) at /Users/eoin/.julia/packages/RecipesBase/aQmWx/src/RecipesBase.jl:281",
      " [6] _process_userrecipes!(::Plots.Plot{Plots.PyPlotBackend}, ::Dict{Symbol,Any}, ::Tuple{Symbol}) at /Users/eoin/.julia/packages/RecipesPipeline/tkFmN/src/user_recipe.jl:35",
      " [7] recipe_pipeline!(::Plots.Plot{Plots.PyPlotBackend}, ::Dict{Symbol,Any}, ::Tuple{Symbol}) at /Users/eoin/.julia/packages/RecipesPipeline/tkFmN/src/RecipesPipeline.jl:69",
      " [8] _plot!(::Plots.Plot{Plots.PyPlotBackend}, ::Dict{Symbol,Any}, ::Tuple{Symbol}) at /Users/eoin/.julia/packages/Plots/GDtiZ/src/plot.jl:167",
      " [9] plot(::Symbol; kw::Base.Iterators.Pairs{Symbol,Symbol,Tuple{Symbol},NamedTuple{(:seriestype,),Tuple{Symbol}}}) at /Users/eoin/.julia/packages/Plots/GDtiZ/src/plot.jl:57",
      " [10] #histogram#354 at /Users/eoin/.julia/packages/RecipesBase/aQmWx/src/RecipesBase.jl:402 [inlined]",
      " [11] histogram(::Symbol) at /Users/eoin/.julia/packages/RecipesBase/aQmWx/src/RecipesBase.jl:402",
      " [12] add_label(::Array{String,1}, ::Function, ::Symbol; kwargs::Base.Iterators.Pairs{Union{},Union{},Tuple{},NamedTuple{(),Tuple{}}}) at /Users/eoin/.julia/packages/StatsPlots/6bINV/src/df.jl:153",
      " [13] add_label(::Array{String,1}, ::Function, ::Symbol) at /Users/eoin/.julia/packages/StatsPlots/6bINV/src/df.jl:150",
      " [14] (::var\"#6#7\")(::DataFrame) at ./none:0",
      " [15] top-level scope at In[25]:2",
      " [16] include_string(::Function, ::Module, ::String, ::String) at ./loading.jl:1091"
     ]
    }
   ],
   "source": [
    "# this code produces an error: histogram doesn't know how to handle missing values \n",
    "@df acs histogram(:HHINCOME) "
   ]
  },
  {
   "cell_type": "code",
   "execution_count": 26,
   "metadata": {},
   "outputs": [
    {
     "data": {
      "text/plain": [
       "dropmissing (generic function with 2 methods)"
      ]
     },
     "execution_count": 26,
     "metadata": {},
     "output_type": "execute_result"
    }
   ],
   "source": [
    "\"\"\"drop all rows of a data frame with a missing entry in column named s\"\"\"\n",
    "function dropmissing(df::DataFrame, s::Symbol)\n",
    "    return df[.!ismissing.(df[:,s]),:]\n",
    "end\n",
    "function dropmissing(df::DataFrame, ss::Symbol...)\n",
    "    keep_rows = fill(true, size(df,1))\n",
    "    for s in ss\n",
    "        keep_rows = keep_rows .& .!ismissing.(df[:,s])\n",
    "    end\n",
    "    return df[keep_rows,:]\n",
    "end"
   ]
  },
  {
   "cell_type": "code",
   "execution_count": 27,
   "metadata": {},
   "outputs": [
    {
     "ename": "LoadError",
     "evalue": "ArgumentError: column name :COSTGAS not found in the data frame",
     "output_type": "error",
     "traceback": [
      "ArgumentError: column name :COSTGAS not found in the data frame",
      "",
      "Stacktrace:",
      " [1] lookupname at /Users/eoin/.julia/packages/DataFrames/cdZCk/src/other/index.jl:286 [inlined]",
      " [2] getindex at /Users/eoin/.julia/packages/DataFrames/cdZCk/src/other/index.jl:295 [inlined]",
      " [3] getindex(::DataFrame, ::UnitRange{Int64}, ::Symbol) at /Users/eoin/.julia/packages/DataFrames/cdZCk/src/dataframe/dataframe.jl:409",
      " [4] top-level scope at In[27]:1",
      " [5] include_string(::Function, ::Module, ::String, ::String) at ./loading.jl:1091"
     ]
    }
   ],
   "source": [
    "(acs[1:10,:])[.!ismissing.(acs[1:10, :COSTGAS]), :]"
   ]
  },
  {
   "cell_type": "code",
   "execution_count": 28,
   "metadata": {},
   "outputs": [
    {
     "ename": "LoadError",
     "evalue": "ArgumentError: column name :HHINCOME not found in the data frame",
     "output_type": "error",
     "traceback": [
      "ArgumentError: column name :HHINCOME not found in the data frame",
      "",
      "Stacktrace:",
      " [1] lookupname at /Users/eoin/.julia/packages/DataFrames/cdZCk/src/other/index.jl:286 [inlined]",
      " [2] getindex at /Users/eoin/.julia/packages/DataFrames/cdZCk/src/other/index.jl:295 [inlined]",
      " [3] getindex(::DataFrame, ::Colon, ::Symbol) at /Users/eoin/.julia/packages/DataFrames/cdZCk/src/dataframe/dataframe.jl:421",
      " [4] dropmissing(::DataFrame, ::Symbol) at ./In[26]:3",
      " [5] top-level scope at In[28]:1",
      " [6] include_string(::Function, ::Module, ::String, ::String) at ./loading.jl:1091"
     ]
    }
   ],
   "source": [
    "@df dropmissing(acs, :HHINCOME) histogram(:HHINCOME)"
   ]
  },
  {
   "cell_type": "code",
   "execution_count": 29,
   "metadata": {},
   "outputs": [
    {
     "ename": "LoadError",
     "evalue": "ArgumentError: column name :EDUC not found in the data frame",
     "output_type": "error",
     "traceback": [
      "ArgumentError: column name :EDUC not found in the data frame",
      "",
      "Stacktrace:",
      " [1] lookupname at /Users/eoin/.julia/packages/DataFrames/cdZCk/src/other/index.jl:286 [inlined]",
      " [2] getindex at /Users/eoin/.julia/packages/DataFrames/cdZCk/src/other/index.jl:295 [inlined]",
      " [3] getindex(::DataFrame, ::Colon, ::Symbol) at /Users/eoin/.julia/packages/DataFrames/cdZCk/src/dataframe/dataframe.jl:421",
      " [4] dropmissing(::DataFrame, ::Symbol) at ./In[26]:3",
      " [5] top-level scope at In[29]:1",
      " [6] include_string(::Function, ::Module, ::String, ::String) at ./loading.jl:1091"
     ]
    }
   ],
   "source": [
    "@df dropmissing(acs, :EDUC) histogram(:EDUC)"
   ]
  },
  {
   "cell_type": "markdown",
   "metadata": {},
   "source": [
    "Look at income distribution by :FOODSTMP, :LABFORCE, :OWNERSHP, ..."
   ]
  },
  {
   "cell_type": "code",
   "execution_count": 30,
   "metadata": {},
   "outputs": [
    {
     "ename": "LoadError",
     "evalue": "ArgumentError: column name :LABFORCE not found in the data frame",
     "output_type": "error",
     "traceback": [
      "ArgumentError: column name :LABFORCE not found in the data frame",
      "",
      "Stacktrace:",
      " [1] lookupname at /Users/eoin/.julia/packages/DataFrames/cdZCk/src/other/index.jl:286 [inlined]",
      " [2] getindex at /Users/eoin/.julia/packages/DataFrames/cdZCk/src/other/index.jl:295 [inlined]",
      " [3] getindex(::DataFrame, ::Colon, ::Symbol) at /Users/eoin/.julia/packages/DataFrames/cdZCk/src/dataframe/dataframe.jl:421",
      " [4] dropmissing(::DataFrame, ::Symbol, ::Symbol) at ./In[26]:8",
      " [5] top-level scope at In[30]:1",
      " [6] include_string(::Function, ::Module, ::String, ::String) at ./loading.jl:1091"
     ]
    }
   ],
   "source": [
    "@df dropmissing(acs, :LABFORCE, :HHINCOME) density(:HHINCOME, group=:LABFORCE, label=[\"not working\" \"working\"])"
   ]
  },
  {
   "cell_type": "code",
   "execution_count": 31,
   "metadata": {},
   "outputs": [
    {
     "ename": "LoadError",
     "evalue": "ArgumentError: column name :EDUC not found in the data frame",
     "output_type": "error",
     "traceback": [
      "ArgumentError: column name :EDUC not found in the data frame",
      "",
      "Stacktrace:",
      " [1] lookupname at /Users/eoin/.julia/packages/DataFrames/cdZCk/src/other/index.jl:286 [inlined]",
      " [2] getindex at /Users/eoin/.julia/packages/DataFrames/cdZCk/src/other/index.jl:295 [inlined]",
      " [3] getindex(::DataFrame, ::Colon, ::Symbol) at /Users/eoin/.julia/packages/DataFrames/cdZCk/src/dataframe/dataframe.jl:421",
      " [4] dropmissing(::DataFrame, ::Symbol, ::Symbol) at ./In[26]:8",
      " [5] top-level scope at In[31]:1",
      " [6] include_string(::Function, ::Module, ::String, ::String) at ./loading.jl:1091"
     ]
    }
   ],
   "source": [
    "@df dropmissing(acs, :EDUC, :HHINCOME) boxplot(:EDUC, :HHINCOME)\n",
    "xlabel!(\"Education\")\n",
    "ylabel!(\"Income\")"
   ]
  },
  {
   "cell_type": "code",
   "execution_count": 32,
   "metadata": {},
   "outputs": [
    {
     "ename": "LoadError",
     "evalue": "ArgumentError: column name :EDUC not found in the data frame",
     "output_type": "error",
     "traceback": [
      "ArgumentError: column name :EDUC not found in the data frame",
      "",
      "Stacktrace:",
      " [1] lookupname at /Users/eoin/.julia/packages/DataFrames/cdZCk/src/other/index.jl:286 [inlined]",
      " [2] getindex at /Users/eoin/.julia/packages/DataFrames/cdZCk/src/other/index.jl:295 [inlined]",
      " [3] getindex(::DataFrame, ::Colon, ::Symbol) at /Users/eoin/.julia/packages/DataFrames/cdZCk/src/dataframe/dataframe.jl:421",
      " [4] dropmissing(::DataFrame, ::Symbol, ::Symbol) at ./In[26]:8",
      " [5] top-level scope at In[32]:1",
      " [6] include_string(::Function, ::Module, ::String, ::String) at ./loading.jl:1091"
     ]
    }
   ],
   "source": [
    "@df dropmissing(acs, :EDUC, :HHINCOME) violin(:EDUC, :HHINCOME)\n",
    "xlabel!(\"Education\")\n",
    "ylabel!(\"Income\")"
   ]
  },
  {
   "cell_type": "code",
   "execution_count": 33,
   "metadata": {},
   "outputs": [
    {
     "ename": "LoadError",
     "evalue": "ArgumentError: column name :EDUC not found in the data frame",
     "output_type": "error",
     "traceback": [
      "ArgumentError: column name :EDUC not found in the data frame",
      "",
      "Stacktrace:",
      " [1] lookupname at /Users/eoin/.julia/packages/DataFrames/cdZCk/src/other/index.jl:286 [inlined]",
      " [2] getindex at /Users/eoin/.julia/packages/DataFrames/cdZCk/src/other/index.jl:295 [inlined]",
      " [3] getindex(::DataFrame, ::Colon, ::Symbol) at /Users/eoin/.julia/packages/DataFrames/cdZCk/src/dataframe/dataframe.jl:421",
      " [4] dropmissing(::DataFrame, ::Symbol, ::Symbol) at ./In[26]:8",
      " [5] top-level scope at In[33]:1",
      " [6] include_string(::Function, ::Module, ::String, ::String) at ./loading.jl:1091"
     ]
    }
   ],
   "source": [
    "@df dropmissing(acs, :EDUC, :HHINCOME)[1:500,:] scatter(:EDUC, :HHINCOME)\n",
    "xlabel!(\"Education\")\n",
    "ylabel!(\"Income\")"
   ]
  },
  {
   "cell_type": "code",
   "execution_count": 34,
   "metadata": {},
   "outputs": [
    {
     "ename": "LoadError",
     "evalue": "ArgumentError: column name :EDUC not found in the data frame",
     "output_type": "error",
     "traceback": [
      "ArgumentError: column name :EDUC not found in the data frame",
      "",
      "Stacktrace:",
      " [1] lookupname at /Users/eoin/.julia/packages/DataFrames/cdZCk/src/other/index.jl:286 [inlined]",
      " [2] getindex at /Users/eoin/.julia/packages/DataFrames/cdZCk/src/other/index.jl:295 [inlined]",
      " [3] getindex(::DataFrame, ::Colon, ::Symbol) at /Users/eoin/.julia/packages/DataFrames/cdZCk/src/dataframe/dataframe.jl:421",
      " [4] dropmissing(::DataFrame, ::Symbol, ::Symbol) at ./In[26]:8",
      " [5] top-level scope at In[34]:1",
      " [6] include_string(::Function, ::Module, ::String, ::String) at ./loading.jl:1091"
     ]
    }
   ],
   "source": [
    "@df dropmissing(acs, :EDUC, :HHINCOME) marginalhist(:EDUC, :HHINCOME)\n",
    "xlabel!(\"Education\")\n",
    "ylabel!(\"Income\")"
   ]
  },
  {
   "cell_type": "markdown",
   "metadata": {},
   "source": [
    "# More good plotting tools: \n",
    "\n",
    "* [Plots.jl](https://juliaplots.github.io) in Julia\n",
    "* [StatsPlots.jl](https://github.com/JuliaPlots/StatsPlots.jl) in Julia\n",
    "* [ggplot2](http://ggplot2.org/) in R\n",
    "* [MatPlotLib](http://matplotlib.org/) in Python or Julia\n",
    "* [D3](https://d3js.org/) in JavaScript"
   ]
  },
  {
   "cell_type": "code",
   "execution_count": null,
   "metadata": {
    "collapsed": true
   },
   "outputs": [],
   "source": []
  }
 ],
 "metadata": {
  "@webio": {
   "lastCommId": null,
   "lastKernelId": null
  },
  "kernelspec": {
   "display_name": "Julia 1.5.1",
   "language": "julia",
   "name": "julia-1.5"
  },
  "language_info": {
   "file_extension": ".jl",
   "mimetype": "application/julia",
   "name": "julia",
   "version": "1.5.1"
  }
 },
 "nbformat": 4,
 "nbformat_minor": 1
}
