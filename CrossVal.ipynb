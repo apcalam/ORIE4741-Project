{
 "cells": [
  {
   "cell_type": "code",
   "execution_count": 7,
   "metadata": {},
   "outputs": [
    {
     "data": {
      "text/plain": [
       "Plots.PyPlotBackend()"
      ]
     },
     "execution_count": 7,
     "metadata": {},
     "output_type": "execute_result"
    }
   ],
   "source": [
    "using Random, LinearAlgebra, Plots\n",
    "# bring packages into main namespace\n",
    "using DataFrames             # Data tables are called \"DataFrames\"\n",
    "using StatsPlots             # load plotting packages \n",
    "using Statistics             # basic statistical functions\n",
    "using CSV                    # tools for working with CSV files\n",
    "using Plots, Random, LinearAlgebra, Statistics, SparseArrays\n",
    "include(\"proxgrad.jl\")\n",
    "pyplot()\n"
   ]
  },
  {
   "cell_type": "code",
   "execution_count": 40,
   "metadata": {},
   "outputs": [
    {
     "name": "stdout",
     "output_type": "stream",
     "text": [
      "n = 213175\n"
     ]
    },
    {
     "data": {
      "text/html": [
       "<table class=\"data-frame\"><thead><tr><th></th><th>tbl</th><th>Year</th><th>quarter</th><th>citymarketid_1</th><th>citymarketid_2</th><th>city1</th></tr><tr><th></th><th>String</th><th>Int64</th><th>Int64</th><th>Int64</th><th>Int64</th><th>String</th></tr></thead><tbody><p>6 rows × 24 columns (omitted printing of 18 columns)</p><tr><th>1</th><td>Table 1a</td><td>2010</td><td>1</td><td>34614</td><td>33195</td><td>Salt Lake City, UT</td></tr><tr><th>2</th><td>Table 1a</td><td>1998</td><td>4</td><td>30189</td><td>31703</td><td>Colorado Springs, CO</td></tr><tr><th>3</th><td>Table 1a</td><td>1998</td><td>4</td><td>30198</td><td>30852</td><td>Pittsburgh, PA</td></tr><tr><th>4</th><td>Table 1a</td><td>2009</td><td>3</td><td>32211</td><td>32575</td><td>Las Vegas, NV</td></tr><tr><th>5</th><td>Table 1a</td><td>1993</td><td>4</td><td>30255</td><td>30852</td><td>Huntsville, AL</td></tr><tr><th>6</th><td>Table 1a</td><td>2010</td><td>4</td><td>33198</td><td>32575</td><td>Kansas City, MO</td></tr></tbody></table>"
      ],
      "text/latex": [
       "\\begin{tabular}{r|ccccccc}\n",
       "\t& tbl & Year & quarter & citymarketid\\_1 & citymarketid\\_2 & city1 & \\\\\n",
       "\t\\hline\n",
       "\t& String & Int64 & Int64 & Int64 & Int64 & String & \\\\\n",
       "\t\\hline\n",
       "\t1 & Table 1a & 2010 & 1 & 34614 & 33195 & Salt Lake City, UT & $\\dots$ \\\\\n",
       "\t2 & Table 1a & 1998 & 4 & 30189 & 31703 & Colorado Springs, CO & $\\dots$ \\\\\n",
       "\t3 & Table 1a & 1998 & 4 & 30198 & 30852 & Pittsburgh, PA & $\\dots$ \\\\\n",
       "\t4 & Table 1a & 2009 & 3 & 32211 & 32575 & Las Vegas, NV & $\\dots$ \\\\\n",
       "\t5 & Table 1a & 1993 & 4 & 30255 & 30852 & Huntsville, AL & $\\dots$ \\\\\n",
       "\t6 & Table 1a & 2010 & 4 & 33198 & 32575 & Kansas City, MO & $\\dots$ \\\\\n",
       "\\end{tabular}\n"
      ],
      "text/plain": [
       "6×24 DataFrame. Omitted printing of 19 columns\n",
       "│ Row │ tbl      │ Year  │ quarter │ citymarketid_1 │ citymarketid_2 │\n",
       "│     │ \u001b[90mString\u001b[39m   │ \u001b[90mInt64\u001b[39m │ \u001b[90mInt64\u001b[39m   │ \u001b[90mInt64\u001b[39m          │ \u001b[90mInt64\u001b[39m          │\n",
       "├─────┼──────────┼───────┼─────────┼────────────────┼────────────────┤\n",
       "│ 1   │ Table 1a │ 2010  │ 1       │ 34614          │ 33195          │\n",
       "│ 2   │ Table 1a │ 1998  │ 4       │ 30189          │ 31703          │\n",
       "│ 3   │ Table 1a │ 1998  │ 4       │ 30198          │ 30852          │\n",
       "│ 4   │ Table 1a │ 2009  │ 3       │ 32211          │ 32575          │\n",
       "│ 5   │ Table 1a │ 1993  │ 4       │ 30255          │ 30852          │\n",
       "│ 6   │ Table 1a │ 2010  │ 4       │ 33198          │ 32575          │"
      ]
     },
     "execution_count": 40,
     "metadata": {},
     "output_type": "execute_result"
    }
   ],
   "source": [
    "dataset = CSV.read(\"Consumer_Airfare_Report__Table_1a_-_All_U.S._Airport_Pair_Markets.csv\") #, limit=10000) # read 10000 rows from the csv\n",
    "dataset[:when] = dataset[:Year] .+ ((dataset[:quarter] .-1) ./ 4)\n",
    "n = size(dataset,1)\n",
    "@show n\n",
    "head(dataset)"
   ]
  },
  {
   "cell_type": "code",
   "execution_count": 64,
   "metadata": {},
   "outputs": [
    {
     "name": "stdout",
     "output_type": "stream",
     "text": [
      "(i, val_idxs) = (1, 1:8)\n",
      "tr_idxs = 9:75\n",
      "(i, val_idxs) = (2, 9:16)\n",
      "tr_idxs = [1, 2, 3, 4, 5, 6, 7, 8, 17, 18, 19, 20, 21, 22, 23, 24, 25, 26, 27, 28, 29, 30, 31, 32, 33, 34, 35, 36, 37, 38, 39, 40, 41, 42, 43, 44, 45, 46, 47, 48, 49, 50, 51, 52, 53, 54, 55, 56, 57, 58, 59, 60, 61, 62, 63, 64, 65, 66, 67, 68, 69, 70, 71, 72, 73, 74, 75]\n",
      "(i, val_idxs) = (3, 17:24)\n",
      "tr_idxs = [1, 2, 3, 4, 5, 6, 7, 8, 9, 10, 11, 12, 13, 14, 15, 16, 25, 26, 27, 28, 29, 30, 31, 32, 33, 34, 35, 36, 37, 38, 39, 40, 41, 42, 43, 44, 45, 46, 47, 48, 49, 50, 51, 52, 53, 54, 55, 56, 57, 58, 59, 60, 61, 62, 63, 64, 65, 66, 67, 68, 69, 70, 71, 72, 73, 74, 75]\n",
      "(i, val_idxs) = (4, 25:32)\n",
      "tr_idxs = [1, 2, 3, 4, 5, 6, 7, 8, 9, 10, 11, 12, 13, 14, 15, 16, 17, 18, 19, 20, 21, 22, 23, 24, 33, 34, 35, 36, 37, 38, 39, 40, 41, 42, 43, 44, 45, 46, 47, 48, 49, 50, 51, 52, 53, 54, 55, 56, 57, 58, 59, 60, 61, 62, 63, 64, 65, 66, 67, 68, 69, 70, 71, 72, 73, 74, 75]\n",
      "(i, val_idxs) = (5, 33:40)\n",
      "tr_idxs = [1, 2, 3, 4, 5, 6, 7, 8, 9, 10, 11, 12, 13, 14, 15, 16, 17, 18, 19, 20, 21, 22, 23, 24, 25, 26, 27, 28, 29, 30, 31, 32, 41, 42, 43, 44, 45, 46, 47, 48, 49, 50, 51, 52, 53, 54, 55, 56, 57, 58, 59, 60, 61, 62, 63, 64, 65, 66, 67, 68, 69, 70, 71, 72, 73, 74, 75]\n",
      "(i, val_idxs) = (6, 41:48)\n",
      "tr_idxs = [1, 2, 3, 4, 5, 6, 7, 8, 9, 10, 11, 12, 13, 14, 15, 16, 17, 18, 19, 20, 21, 22, 23, 24, 25, 26, 27, 28, 29, 30, 31, 32, 33, 34, 35, 36, 37, 38, 39, 40, 49, 50, 51, 52, 53, 54, 55, 56, 57, 58, 59, 60, 61, 62, 63, 64, 65, 66, 67, 68, 69, 70, 71, 72, 73, 74, 75]\n",
      "(i, val_idxs) = (7, 49:56)\n",
      "tr_idxs = [1, 2, 3, 4, 5, 6, 7, 8, 9, 10, 11, 12, 13, 14, 15, 16, 17, 18, 19, 20, 21, 22, 23, 24, 25, 26, 27, 28, 29, 30, 31, 32, 33, 34, 35, 36, 37, 38, 39, 40, 41, 42, 43, 44, 45, 46, 47, 48, 57, 58, 59, 60, 61, 62, 63, 64, 65, 66, 67, 68, 69, 70, 71, 72, 73, 74, 75]\n",
      "(i, val_idxs) = (8, 57:64)\n",
      "tr_idxs = [1, 2, 3, 4, 5, 6, 7, 8, 9, 10, 11, 12, 13, 14, 15, 16, 17, 18, 19, 20, 21, 22, 23, 24, 25, 26, 27, 28, 29, 30, 31, 32, 33, 34, 35, 36, 37, 38, 39, 40, 41, 42, 43, 44, 45, 46, 47, 48, 49, 50, 51, 52, 53, 54, 55, 56, 65, 66, 67, 68, 69, 70, 71, 72, 73, 74, 75]\n",
      "(i, val_idxs) = (9, 65:72)\n",
      "tr_idxs = [1, 2, 3, 4, 5, 6, 7, 8, 9, 10, 11, 12, 13, 14, 15, 16, 17, 18, 19, 20, 21, 22, 23, 24, 25, 26, 27, 28, 29, 30, 31, 32, 33, 34, 35, 36, 37, 38, 39, 40, 41, 42, 43, 44, 45, 46, 47, 48, 49, 50, 51, 52, 53, 54, 55, 56, 57, 58, 59, 60, 61, 62, 63, 64, 73, 74, 75]\n",
      "(i, val_idxs) = (10, 73:80)\n",
      "tr_idxs = 1:72\n"
     ]
    }
   ],
   "source": [
    "# One featurization\n",
    "function get_Xy(dataset)\n",
    "    X = [dataset[:when] dataset[:airportid_1] dataset[:airportid_2] ones(size(dataset,1))]\n",
    "    y = dataset[:fare]\n",
    "    return X,y\n",
    "end\n",
    "X, y = get_Xy(dataset)\n",
    "\n",
    "w = X \\ y\n",
    "\n",
    "function crossVal(featurizer, opt; k=10)\n",
    "    X,y = featurizer(dataset)\n",
    "    n = 75\n",
    "    r = Int(round(n / k))\n",
    "    idxs = rand(1:n,n) # to shuffle the dataset\n",
    "    for i = 1:k\n",
    "        val_idxs = r*(i-1)+1:r*i\n",
    "        tr_low = 1:r*(i-1)\n",
    "        tr_high = r*i+1:n\n",
    "        if (i == 1)\n",
    "            tr_idxs = tr_high\n",
    "        elseif (i == k)\n",
    "            tr_idxs = tr_low\n",
    "        else\n",
    "            tr_idxs = [tr_low ; tr_high ]\n",
    "        end\n",
    "        @show i, val_idxs\n",
    "        @show tr_idxs\n",
    "        X_tr = X[idxs[tr_idxs],:]\n",
    "        y_tr = y[idxs[tr_idxs],:]\n",
    "        \n",
    "        X_val = X[idxs[val_idxs],:]\n",
    "        y_val = y[idxs[val_idxs],:]\n",
    "    end\n",
    "end\n",
    "crossVal(0,0)"
   ]
  },
  {
   "cell_type": "code",
   "execution_count": null,
   "metadata": {},
   "outputs": [],
   "source": []
  }
 ],
 "metadata": {
  "@webio": {
   "lastCommId": null,
   "lastKernelId": null
  },
  "kernelspec": {
   "display_name": "Julia 1.5.1",
   "language": "julia",
   "name": "julia-1.5"
  },
  "language_info": {
   "file_extension": ".jl",
   "mimetype": "application/julia",
   "name": "julia",
   "version": "1.5.1"
  }
 },
 "nbformat": 4,
 "nbformat_minor": 1
}
