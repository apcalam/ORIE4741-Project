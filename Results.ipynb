{
 "cells": [
  {
   "cell_type": "code",
   "execution_count": 1,
   "metadata": {},
   "outputs": [
    {
     "name": "stderr",
     "output_type": "stream",
     "text": [
      "\u001b[32m\u001b[1m   Updating\u001b[22m\u001b[39m registry at `~/.julia/registries/General`\n",
      "######################################################################### 100.0%\n",
      "\u001b[32m\u001b[1m  Resolving\u001b[22m\u001b[39m package versions...\n",
      "\u001b[32m\u001b[1mNo Changes\u001b[22m\u001b[39m to `~/.julia/environments/v1.5/Project.toml`\n",
      "\u001b[32m\u001b[1mNo Changes\u001b[22m\u001b[39m to `~/.julia/environments/v1.5/Manifest.toml`\n"
     ]
    }
   ],
   "source": [
    "using Pkg\n",
    "Pkg.add(\"ProgressBars\")"
   ]
  },
  {
   "cell_type": "code",
   "execution_count": 2,
   "metadata": {},
   "outputs": [
    {
     "data": {
      "text/plain": [
       "Plots.PyPlotBackend()"
      ]
     },
     "execution_count": 2,
     "metadata": {},
     "output_type": "execute_result"
    }
   ],
   "source": [
    "using Random, LinearAlgebra, Plots\n",
    "# bring packages into main namespace\n",
    "using DataFrames             # Data tables are called \"DataFrames\"\n",
    "using StatsPlots             # load plotting packages \n",
    "using Statistics             # basic statistical functions\n",
    "using CSV                    # tools for working with CSV files\n",
    "using Plots, Random, LinearAlgebra, Statistics, SparseArrays\n",
    "using ProgressBars\n",
    "include(\"proxgrad.jl\")\n",
    "pyplot()"
   ]
  },
  {
   "cell_type": "code",
   "execution_count": 41,
   "metadata": {},
   "outputs": [
    {
     "name": "stdout",
     "output_type": "stream",
     "text": [
      "(n_before, n_after) = (170712, 30680)\n",
      "r = 0.15233971557956622\n",
      "(n_train, n_test) = (170712, 30680)\n"
     ]
    }
   ],
   "source": [
    "dataset = CSV.read(\"Consumer_Airfare_Report__Table_1a_-_All_U.S._Airport_Pair_Markets.csv\")\n",
    "dataset = dropmissing(dataset)\n",
    "dataset[:when] = dataset[:Year] .+ ((dataset[:quarter] .-1) ./ 4)\n",
    "\n",
    "n = size(dataset,1)\n",
    "\n",
    "# For Extrapolation\n",
    "cuttoff = 2015\n",
    "before_idxs = dataset[:when].< cuttoff\n",
    "after_idxs = dataset[:when].>= cuttoff\n",
    "\n",
    "before_dataset = dataset[before_idxs,:]\n",
    "after_dataset  = dataset[after_idxs,:]\n",
    "    \n",
    "n_before = size(before_dataset,1)\n",
    "n_after = size(after_dataset,1)\n",
    "@assert  n_before + n_after == n\n",
    "@show n_before, n_after\n",
    "\n",
    "head(dataset)\n",
    "\n",
    "# For Interpolation\n",
    "r = n_after / n\n",
    "@show r\n",
    "cuttoff = Int(round(n*r))\n",
    "idxs = rand(1:n,n)\n",
    "\n",
    "test_dataset  = dataset[idxs[1:cuttoff],:]\n",
    "train_dataset = dataset[idxs[cuttoff+1:n],:]\n",
    "\n",
    "n_train = size(train_dataset,1)\n",
    "n_test = size(test_dataset,1)\n",
    "@assert  n_train + n_test == n\n",
    "@show n_train, n_test;"
   ]
  },
  {
   "cell_type": "code",
   "execution_count": 4,
   "metadata": {},
   "outputs": [
    {
     "data": {
      "text/plain": [
       "test_models (generic function with 1 method)"
      ]
     },
     "execution_count": 4,
     "metadata": {},
     "output_type": "execute_result"
    }
   ],
   "source": [
    "# Do k-fold cross validation and return the average error_metric on the validation set accross the k folds.\n",
    "function cross_val(featurizer, loss, regularizer, stepsize, error_metric; k=10, dataset=train_dataset)\n",
    "    X,y = featurizer(dataset)\n",
    "    n = size(dataset,1)\n",
    "    r = Int(round(n / k))\n",
    "    idxs = rand(1:n,n) # to shuffle the dataset\n",
    "    error = 0\n",
    "    for i in (1:k)\n",
    "        val_idxs = r*(i-1)+1:min(r*i,n)\n",
    "        tr_low = 1:r*(i-1)\n",
    "        tr_high = r*i+1:n\n",
    "        if (i == 1)\n",
    "            tr_idxs = tr_high\n",
    "        elseif (i == k)\n",
    "            tr_idxs = tr_low\n",
    "        else\n",
    "            tr_idxs = [tr_low ; tr_high ]\n",
    "        end\n",
    "        # @show i, val_idxs\n",
    "        # @show tr_low, tr_high\n",
    "        X_tr = X[idxs[tr_idxs],:]\n",
    "        y_tr = y[idxs[tr_idxs]]\n",
    "        \n",
    "        X_val = X[idxs[val_idxs],:]\n",
    "        y_val = y[idxs[val_idxs]]\n",
    "        \n",
    "        w = proxgrad(loss, regularizer, X_tr, y_tr; stepsize=stepsize) \n",
    "        ŷ_val = X_val * w\n",
    "        # @show size(y_val)\n",
    "        # @show size(ŷ_val)\n",
    "        error += error_metric(ŷ_val, y_val)\n",
    "    end\n",
    "    return error / k\n",
    "end\n",
    "\n",
    "function extrapolation_val(featurizer, loss, regularizer, stepsize, error_metric; k=10, dataset=train_dataset)\n",
    "    X,y = featurizer(dataset)\n",
    "    n = size(X,1)\n",
    "    \n",
    "    tr_idxs = dataset[:when].< 2013.5\n",
    "    val_idxs = dataset[:when].>= 2013.5\n",
    "    \n",
    "    X_tr = X[tr_idxs,:]\n",
    "    y_tr = y[tr_idxs]\n",
    "    n_tr = size(X_tr,1)\n",
    "\n",
    "    X_val = X[val_idxs,:]\n",
    "    y_val = y[val_idxs]\n",
    "    n_val = size(X_val,1)\n",
    "    \n",
    "    @assert n_tr + n_val == n\n",
    "\n",
    "    w = proxgrad(loss, regularizer, X_tr, y_tr; stepsize=stepsize) \n",
    "    ŷ_val = X_val * w\n",
    "    # @show size(y_val)\n",
    "    # @show size(ŷ_val)\n",
    "    \n",
    "    return error_metric(ŷ_val, y_val)\n",
    "end\n",
    "\n",
    "function train_and_validate(featurizer, loss, regularizer, stepsize, error_metric, mode; k=10, dataset=train_dataset)\n",
    "    if (mode==\"interpolation\")\n",
    "        return cross_val(featurizer, loss, regularizer, stepsize, error_metric; k=k, dataset=dataset)\n",
    "    else\n",
    "        return extrapolation_val(featurizer, loss, regularizer, stepsize, error_metric; k=k, dataset=dataset)\n",
    "    end\n",
    "end\n",
    "\n",
    "# For each model in models, do k-fold cross validation and calculate the average error_metric\n",
    "# on the val set accross the k-folds.\n",
    "# Each model in model is a tuple of the form (featurizer, loss, regularizer, stepsize),\n",
    "# where a featurizer is a funciton that takes in a dataset and returns X,y. \n",
    "# Returns errors for each model, and the index of the best model\n",
    "function test_models(models, error_metric,mode;k=10, dataset=train_dataset)\n",
    "    errors = []\n",
    "    for model in models\n",
    "        error = train_and_validate(model...,error_metric,mode;k=k,dataset=dataset)\n",
    "        errors = [errors; error]\n",
    "    end\n",
    "    i = argmin(errors)\n",
    "    println(\"The best model is model \",i)\n",
    "    return errors,i\n",
    "end"
   ]
  },
  {
   "cell_type": "markdown",
   "metadata": {},
   "source": [
    "# Feature Engineering and Selection"
   ]
  },
  {
   "cell_type": "code",
   "execution_count": 5,
   "metadata": {},
   "outputs": [
    {
     "data": {
      "text/plain": [
       "onehot"
      ]
     },
     "execution_count": 5,
     "metadata": {},
     "output_type": "execute_result"
    }
   ],
   "source": [
    "cat_labels = [:carrier_lg, :carrier_low, :airportid_1, :airportid_2]\n",
    "cat_labels_sub = [:carrier_lg, :carrier_low]\n",
    "\n",
    "#Sets of all categories in a particular column\n",
    "cats_sets = [unique(dataset[:, label]) for label in cat_labels]\n",
    "cats_sets_sub = [unique(dataset[:, label]) for label in cat_labels_sub]\n",
    "\n",
    "\"Computes a onehot vector for every entry in column given a set of categories cats\"\n",
    "function onehot(column, cats=unique(column))\n",
    "    result = zeros(length(column), length(cats))\n",
    "    for i = 1:length(column)\n",
    "        for j =1:length(cats)\n",
    "            if column[i] === cats[j]\n",
    "                result[i, j] = 1\n",
    "            end    \n",
    "        end\n",
    "    end\n",
    "    result\n",
    "end"
   ]
  },
  {
   "cell_type": "code",
   "execution_count": 6,
   "metadata": {},
   "outputs": [
    {
     "data": {
      "text/plain": [
       "7-element Array{Symbol,1}:\n",
       " :when\n",
       " :nsmiles\n",
       " :passengers\n",
       " :large_ms\n",
       " :fare_lg\n",
       " :lf_ms\n",
       " :fare_low"
      ]
     },
     "execution_count": 6,
     "metadata": {},
     "output_type": "execute_result"
    }
   ],
   "source": [
    "labels_real = [\n",
    "    :when, \n",
    "    :citymarketid_1, \n",
    "    :citymarketid_2,\n",
    "    :airportid_1,\n",
    "    :airportid_2,\n",
    "    :nsmiles,\n",
    "    :passengers,\n",
    "    :large_ms,\n",
    "    :fare_lg,\n",
    "    :lf_ms,\n",
    "    :fare_low\n",
    "]\n",
    "labels_real_sub = [\n",
    "    :when, \n",
    "    :nsmiles,\n",
    "    :passengers,\n",
    "    :large_ms,\n",
    "    :fare_lg,\n",
    "    :lf_ms,\n",
    "    :fare_low\n",
    "]"
   ]
  },
  {
   "cell_type": "code",
   "execution_count": 7,
   "metadata": {},
   "outputs": [
    {
     "data": {
      "text/plain": [
       "MSE (generic function with 1 method)"
      ]
     },
     "execution_count": 7,
     "metadata": {},
     "output_type": "execute_result"
    }
   ],
   "source": [
    "# Baseline featurizer\n",
    "function feats_0(dataset)\n",
    "    X = [dataset[:when] dataset[:airportid_1] dataset[:airportid_2] ones(size(dataset,1))]\n",
    "    y = dataset[:fare]\n",
    "    return X,y\n",
    "end\n",
    "\n",
    "# Only numeric features (treating airportid and cityid as numeric)\n",
    "function feats_1(dataset)\n",
    "    real_vals = convert(Matrix, dataset[labels_real])\n",
    "    X = hcat(real_vals, ones(size(dataset,1)))\n",
    "    y = dataset[:fare]\n",
    "    return X,y\n",
    "end\n",
    "\n",
    "# Numeric and categorical combined (treating airportid and cityid as numerical)\n",
    "function feats_2(dataset)\n",
    "    real_vals = convert(Matrix, dataset[labels_real])\n",
    "    cat_vals = hcat([onehot(dataset[:, cat_labels_sub[i]], cats_sets_sub[i]) for i in 1:size(cat_labels_sub, 1)]...)\n",
    "    X = hcat(cat_vals, real_vals, ones(size(dataset,1)))\n",
    "    y = dataset[:fare]\n",
    "    return X,y\n",
    "end\n",
    "\n",
    "# Numeric and categorical combined (treating airportid and cityid as categorical)\n",
    "function feats_3(dataset)\n",
    "    real_vals = convert(Matrix, dataset[labels_real_sub])\n",
    "    cat_vals = hcat([onehot(dataset[:, cat_labels[i]], cats_sets[i]) for i in 1:size(cat_labels, 1)]...)\n",
    "    X = hcat(cat_vals, real_vals, ones(size(dataset,1)))\n",
    "    y = dataset[:fare]\n",
    "    return X,y\n",
    "end\n",
    "\n",
    "MSE(L1,L2) = sum((L1.-L2).^2) / size(L1,1)"
   ]
  },
  {
   "cell_type": "code",
   "execution_count": 47,
   "metadata": {},
   "outputs": [
    {
     "name": "stdout",
     "output_type": "stream",
     "text": [
      "100.0%┣████████████████████████████████████████████┫ 4/4 [01:02<00:00, 0.0 it/s]\n"
     ]
    },
    {
     "data": {
      "text/plain": [
       "4-element Array{Any,1}:\n",
       " (6650.171657486256, 6209.362706969636)\n",
       " (6387.175258070116, 5990.595796144548)\n",
       " (6402.933123638795, 6006.5760827953045)\n",
       " (2781.3832035865066, 2398.174542660822)"
      ]
     },
     "execution_count": 47,
     "metadata": {},
     "output_type": "execute_result"
    }
   ],
   "source": [
    "I0 = (feats_0, 1/n_train*QuadLoss(), 0.75*OneReg(), .1)\n",
    "I1 = (feats_1, 1/n_train*QuadLoss(), ZeroReg(), .7)\n",
    "I2 = (feats_2, 1/n_train*QuadLoss(), 0.5 *QuadReg(), .3)\n",
    "I3 = (feats_3, 1/n_train*QuadLoss(), 0.75*QuadReg(), .7)\n",
    "\n",
    "function report_results(models)\n",
    "    results = []\n",
    "    for model in tqdm(models)\n",
    "        featurizer, loss, regularizer, stepsize = model\n",
    "\n",
    "        # Interpolation\n",
    "        X_tr, y_tr = featurizer(train_dataset)\n",
    "        X_te, y_te = featurizer(test_dataset)\n",
    "        w= proxgrad(loss, regularizer, X_tr, y_tr; stepsize=stepsize) \n",
    "        ŷ_te = X_te * w\n",
    "        int_error = MSE(ŷ_te, y_te)\n",
    "\n",
    "        # Extrapolation\n",
    "        X_b4, y_b4 = featurizer(before_dataset)\n",
    "        X_aftr, y_aftr = featurizer(after_dataset)\n",
    "        w= proxgrad(loss, regularizer, X_b4, y_b4; stepsize=stepsize) \n",
    "        ŷ_aftr = X_aftr * w\n",
    "        ext_error = MSE(ŷ_aftr, y_aftr)  \n",
    "\n",
    "        results = [results; (int_error, ext_error) ]\n",
    "    end\n",
    "    return results\n",
    "end\n",
    "resultsI = report_results([I0, I1, I2, I3])"
   ]
  },
  {
   "cell_type": "code",
   "execution_count": 48,
   "metadata": {},
   "outputs": [
    {
     "name": "stdout",
     "output_type": "stream",
     "text": [
      "100.0%┣████████████████████████████████████████████┫ 4/4 [00:57<00:00, 0.1 it/s]\n"
     ]
    },
    {
     "data": {
      "text/plain": [
       "4-element Array{Any,1}:\n",
       " (8808.229596595665, 5375.917154490394)\n",
       " (8307.123462812846, 5113.792940533237)\n",
       " (8307.123452218753, 5113.792923855142)\n",
       " (4351.870356028882, 1965.275182648292)"
      ]
     },
     "execution_count": 48,
     "metadata": {},
     "output_type": "execute_result"
    }
   ],
   "source": [
    "E0 = (feats_0, 1/n_train*QuantileLoss(quantile=0.75), ZeroReg(), .7)\n",
    "E1 = (feats_1, 1/n_train*QuantileLoss(quantile=0.75), ZeroReg(), .1)\n",
    "E2 = (feats_2, 1/n_train*QuantileLoss(quantile=0.75), ZeroReg(), .1)\n",
    "E3 = (feats_3, 1/n_train*QuantileLoss(quantile=0.75), ZeroReg(), .3)\n",
    "resultsE = report_results([E0, E1, E2, E3])"
   ]
  },
  {
   "cell_type": "code",
   "execution_count": 51,
   "metadata": {},
   "outputs": [
    {
     "name": "stdout",
     "output_type": "stream",
     "text": [
      "resultsI = Any[(6650.171657486256, 6209.362706969636), (6387.175258070116, 5990.595796144548), (6402.933123638795, 6006.5760827953045), (2781.3832035865066, 2398.174542660822)]\n",
      "resultsE = Any[(8808.229596595665, 5375.917154490394), (8307.123462812846, 5113.792940533237), (8307.123452218753, 5113.792923855142), (4351.870356028882, 1965.275182648292)]\n",
      "6650.171657486256 & 6209.362706969636 \\\\\n",
      "6387.175258070116 & 5990.595796144548 \\\\\n",
      "6402.933123638795 & 6006.5760827953045 \\\\\n",
      "2781.3832035865066 & 2398.174542660822 \\\\\n",
      "\n",
      "\n",
      "8808.229596595665 & 5375.917154490394 \\\\\n",
      "8307.123462812846 & 5113.792940533237 \\\\\n",
      "8307.123452218753 & 5113.792923855142 \\\\\n",
      "4351.870356028882 & 1965.275182648292 \\\\\n"
     ]
    }
   ],
   "source": [
    "@show resultsI\n",
    "@show resultsE\n",
    "\n",
    "for r in resultsI\n",
    "    println(r[1], \" & \", r[2], \" \\\\\\\\\")\n",
    "end\n",
    "println(\"\\n\")\n",
    "for r in resultsE\n",
    "    println(r[1], \" & \", r[2], \" \\\\\\\\\")\n",
    "end"
   ]
  }
 ],
 "metadata": {
  "@webio": {
   "lastCommId": null,
   "lastKernelId": null
  },
  "kernelspec": {
   "display_name": "Julia 1.5.1",
   "language": "julia",
   "name": "julia-1.5"
  },
  "language_info": {
   "file_extension": ".jl",
   "mimetype": "application/julia",
   "name": "julia",
   "version": "1.5.1"
  }
 },
 "nbformat": 4,
 "nbformat_minor": 1
}
